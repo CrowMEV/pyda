{
 "cells": [
  {
   "cell_type": "markdown",
   "metadata": {},
   "source": [
    "Задание 1.\n",
    "Напишите функцию, которая принимает на вход строку и проверяет является ли она валидным транспортным номером. Если да, то функция должна возвращать отдельно номер и регион.\n"
   ]
  },
  {
   "cell_type": "code",
   "execution_count": 3,
   "metadata": {},
   "outputs": [],
   "source": [
    "import re"
   ]
  },
  {
   "cell_type": "code",
   "execution_count": 17,
   "metadata": {},
   "outputs": [],
   "source": [
    "def check_car_number(number):\n",
    "    number = re.findall(r'([АВЕКМНОРСТУХ]\\d{3}[АВЕКМНОРСТУХ]{2})(\\d{2,3})', number)\n",
    "    if number:\n",
    "        number, region = number[0]\n",
    "        return number, region\n"
   ]
  },
  {
   "cell_type": "code",
   "execution_count": 20,
   "metadata": {},
   "outputs": [
    {
     "data": {
      "text/plain": [
       "('А777АА', '144')"
      ]
     },
     "execution_count": 20,
     "metadata": {},
     "output_type": "execute_result"
    }
   ],
   "source": [
    "check_car_number('А777АА144')"
   ]
  },
  {
   "cell_type": "markdown",
   "metadata": {},
   "source": [
    "Задание 2.\n",
    "Постарайтесь написать (в крайнем случае найти) самый полный шаблон для проверки e-mail адресов через регулярное выражение, которая проверяет e-mail адрес на валидность. Можно руководствоваться следующими минимальными требованиями:\n",
    "• адрес должен содержать специальный символ “@”, который отделяет имя пользователя почтовой системы от доменного имени;\n",
    "• адрес не должен содержать следующие символы: “пробел”, “,”, “:”, “;”, “!”, “#”, “%”, “*”, “(”, “)”, “=”, “+”, “{”, “}”, \" \" \", \" ’ \", \" / \", \" \\ \" и “|”;\n",
    "• адрес должен состоять только из латинских символов;\n",
    "• после символа “@” должна быть как минимум одна “.”;\n",
    "• после последней точки должно быть не менее 2-х и не более 4-х символов, причем наличие цифр не допускается;\n",
    "• между последней точкой и символом “@” должно быть не менее 2-х символов\n",
    "• слева от “@” должно быть не менее четырех символов"
   ]
  },
  {
   "cell_type": "code",
   "execution_count": 21,
   "metadata": {},
   "outputs": [
    {
     "data": {
      "text/plain": [
       "[]"
      ]
     },
     "execution_count": 21,
     "metadata": {},
     "output_type": "execute_result"
    }
   ],
   "source": [
    "email = input('Enter your email ')\n",
    "pattern = re.findall(r'^[a-zA-Z0-9_]{4,}\\@[a-zA-Z0-9_]{2,}\\.+[^0-9,:;!#%*()=+{}’/\\|\\s]{2,4}', email)\n",
    "pattern"
   ]
  },
  {
   "cell_type": "markdown",
   "metadata": {},
   "source": [
    "## Задание 3\n",
    "\n",
    "Напишите функцию, которая будет возвращать акроним по переданной в нее строке со словами.\n",
    "\n",
    "Примеры работы программы:\n",
    "\n",
    "some_words = 'Информационные технологии’ Результат: ИТ\n",
    "\n",
    "some_words = 'Near Field Communication' Результат: NFC"
   ]
  },
  {
   "cell_type": "code",
   "execution_count": 7,
   "metadata": {},
   "outputs": [],
   "source": [
    "def find_acronym(str_):\n",
    "    return re.sub(r'\\b(\\w)\\w+\\s?', r'\\1', str_, flags=re.I)"
   ]
  },
  {
   "cell_type": "code",
   "execution_count": 8,
   "metadata": {},
   "outputs": [
    {
     "data": {
      "text/plain": [
       "'NFC'"
      ]
     },
     "execution_count": 8,
     "metadata": {},
     "output_type": "execute_result"
    }
   ],
   "source": [
    "find_acronym('Near Field Communication')"
   ]
  },
  {
   "cell_type": "markdown",
   "metadata": {},
   "source": [
    "**Задание 3**\n",
    "Напишите функцию, которая будет удалять все последовательные повторы слов из заданной строки при помощи регулярных выражений."
   ]
  },
  {
   "cell_type": "code",
   "execution_count": 25,
   "metadata": {},
   "outputs": [],
   "source": [
    "def delete_duplication(text):\n",
    "    return re.sub(r'\\b([^\\W\\d_]+)(\\s+\\1)+\\b', r'\\1', text, flags=re.I)\n"
   ]
  },
  {
   "cell_type": "code",
   "execution_count": 29,
   "metadata": {},
   "outputs": [],
   "source": [
    "def delete_duplication(text):\n",
    "    return re.sub(r'\\b(\\w+)( \\1\\b)+', r'\\1', text, flags=re.I)"
   ]
  },
  {
   "cell_type": "code",
   "execution_count": 27,
   "metadata": {},
   "outputs": [],
   "source": [
    "test_str = 'Довольно распространённая ошибка ошибка — это лишний повтор повтор слова слова. Смешно, не не правда ли? Не нужно портить хор хоровод.'"
   ]
  },
  {
   "cell_type": "code",
   "execution_count": 30,
   "metadata": {},
   "outputs": [
    {
     "data": {
      "text/plain": [
       "'Довольно распространённая ошибка — это лишний повтор слова. Смешно, не правда ли? Не нужно портить хор хоровод.'"
      ]
     },
     "execution_count": 30,
     "metadata": {},
     "output_type": "execute_result"
    }
   ],
   "source": [
    "delete_duplication(test_str)"
   ]
  },
  {
   "cell_type": "markdown",
   "metadata": {},
   "source": [
    "**Задание 4.**\n",
    "Напишите функцию, которая будет проверять номер сотового телефона на валидность, если он валиден, то переводить его в формат:\n",
    "+7(xxx)-xxx-xx-xx\n",
    "​\n",
    "Постарайтесь предусмотреть как можно больше адекватных форматов изначального ввода номера. Примеры валидных форматов:\n",
    "​\n",
    "\n",
    "\n",
    "• +7 955 555-55-55;\n",
    "• 9555555555;\n",
    "• 8(955)555-55-55;\n",
    "• +7 955 555 55 55;\n",
    "• 7(955) 555-55-55;\n",
    "• +7 955+555+55+55."
   ]
  },
  {
   "cell_type": "code",
   "execution_count": 134,
   "metadata": {},
   "outputs": [],
   "source": [
    "def check_phone_number(phone_number):\n",
    "    if re.findall(r'(\\+7|8|7)?[\\W_]*(\\d{3})[\\W_]*(\\d{3})[\\W_]*(\\d{2})[\\W_]*(\\d{2})', phone_number):\n",
    "        pattern = re.sub(r'(\\+7|8|7)?[\\W_]*(\\d{3})[\\W_]*(\\d{3})[\\W_]*(\\d{2})[\\W_]*(\\d{2})', r'+7(\\2)-\\3-\\4-\\5', phone_number)\n",
    "        return pattern\n",
    "    \n",
    "    else:\n",
    "        print('Error. Try again!')\n"
   ]
  },
  {
   "cell_type": "code",
   "execution_count": 136,
   "metadata": {
    "scrolled": true
   },
   "outputs": [
    {
     "name": "stdout",
     "output_type": "stream",
     "text": [
      "+7(955)-555-55-55\n",
      "+7(955)-555-55-55\n",
      "+7(955)-555-55-55\n",
      "+7(955)-555-55-55\n",
      "+7(955)-555-55-55\n",
      "Error. Try again!\n",
      "None\n",
      "+7(955)-555-55-55\n"
     ]
    }
   ],
   "source": [
    "ph_numbers = ['+7 955 555-55-55', '9555555555', '8(955)555-55-55', '+7 955 555 55 55', '7(955) 555-55-55', '5565756','+7 955+555+55+55']\n",
    "for number in ph_numbers:  \n",
    "    print(check_phone_number(number))"
   ]
  },
  {
   "cell_type": "markdown",
   "metadata": {},
   "source": [
    "## Задание 4\n",
    "\n",
    "Напишите функцию, которая будет принимать на вход список email-адресов и выводить их распределение по доменным зонам.\n",
    "\n",
    "Пример работы программы:\n",
    "\n",
    "emails = [‘test@gmail.com’, ‘xyz@test.in’, ‘test@ya.ru’, ‘xyz@mail.ru’, ‘xyz@ya.ru’, ‘xyz@gmail.com’]\n",
    "\n",
    "Результат:\n",
    "\n",
    "* gmail.com: 2\n",
    "* test.in: 1\n",
    "* ya.ru: 2\n",
    "* mail.ru: 1\n"
   ]
  },
  {
   "cell_type": "code",
   "execution_count": 24,
   "metadata": {},
   "outputs": [
    {
     "data": {
      "text/plain": [
       "{'gmail.com': 2, 'test.in': 1, 'ya.ru': 2, 'mail.ru': 1}"
      ]
     },
     "execution_count": 24,
     "metadata": {},
     "output_type": "execute_result"
    }
   ],
   "source": [
    "emails = [\n",
    "    'test@gmail.com',\n",
    "    'xyz@test.in', \n",
    "    'test@ya.ru', \n",
    "    'xyz@mail.ru', \n",
    "    'xyz@ya.ru', \n",
    "    'xyz@gmail.com'\n",
    "]\n",
    "\n",
    "def counting(emails):\n",
    "    emails = re.findall(r'(?<=@)\\w+\\.\\w{2,3}', ', '.join(emails))\n",
    "    return {host:emails.count(host) for host in emails}\n",
    "\n",
    "\n",
    "counting(emails)"
   ]
  }
 ],
 "metadata": {
  "kernelspec": {
   "display_name": "Python 3",
   "language": "python",
   "name": "python3"
  },
  "language_info": {
   "codemirror_mode": {
    "name": "ipython",
    "version": 3
   },
   "file_extension": ".py",
   "mimetype": "text/x-python",
   "name": "python",
   "nbconvert_exporter": "python",
   "pygments_lexer": "ipython3",
   "version": "3.10.4"
  }
 },
 "nbformat": 4,
 "nbformat_minor": 4
}
