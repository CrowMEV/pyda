{
 "cells": [
  {
   "cell_type": "markdown",
   "metadata": {},
   "source": [
    "### Домашнее задание № 1"
   ]
  },
  {
   "cell_type": "markdown",
   "metadata": {},
   "source": [
    "**Задание 1**. Даны 2 строки: long_phrase и short_phrase. Напишите код, который проверяет действительно ли длинная фраза long_phrase длиннее короткой short_phrase. И выводит True или False в зависимости от результата сравнения."
   ]
  },
  {
   "cell_type": "code",
   "execution_count": null,
   "metadata": {},
   "outputs": [],
   "source": [
    "long_phrase = 'Насколько проще было бы писать программы, если бы не заказчики'\n",
    "short_phrase = '640Кб должно хватить для любых задач. Билл Гейтс (по легенде)'"
   ]
  },
  {
   "cell_type": "code",
   "execution_count": null,
   "metadata": {},
   "outputs": [],
   "source": [
    "# неверный вариант\n",
    "long_phrase > short_phrase"
   ]
  },
  {
   "cell_type": "code",
   "execution_count": null,
   "metadata": {},
   "outputs": [],
   "source": [
    "# проверяем\n",
    "long_phrase = '0Насколько проще было бы писать программы, если бы не заказчики'\n",
    "short_phrase = '640Кб должно хватить для любых задач. Билл Гейтс (по легенде)'\n",
    "long_phrase > short_phrase"
   ]
  },
  {
   "cell_type": "code",
   "execution_count": null,
   "metadata": {},
   "outputs": [],
   "source": [
    "# избыточный вариант\n",
    "if len(long_phrase) > len(short_phrase):\n",
    "    print(True)\n",
    "else:\n",
    "    print(False)"
   ]
  },
  {
   "cell_type": "code",
   "execution_count": null,
   "metadata": {},
   "outputs": [],
   "source": [
    "# лаконичный вариант, сравнение всегда возвращает логическое значение\n",
    "len(long_phrase) > len(short_phrase)"
   ]
  },
  {
   "cell_type": "markdown",
   "metadata": {},
   "source": [
    "**Задание 2**. Дано значение объема файла в байтах. Напишите перевод этого значения в мегабайты в формате: \"*Объем файла равен 213.68Mb*\""
   ]
  },
  {
   "cell_type": "code",
   "execution_count": null,
   "metadata": {},
   "outputs": [],
   "source": [
    "bytes_filesize = int(input('Введите значение в байтах '))\n",
    "bytes_to_mb = 1048576\n",
    "bytes_to_mb = 2 ** 20\n",
    "print(f'Объем файла равен {round(bytes_filesize/bytes_to_mb, 2)} Mb')"
   ]
  },
  {
   "cell_type": "markdown",
   "metadata": {},
   "source": [
    "**Задание 3**. Разработать приложение для определения знака зодиака по дате рождения. Пример:\n",
    "\n",
    "Введите месяц: март\n",
    "\n",
    "Введите число: 6\n",
    "\n",
    "Вывод:\n",
    "Рыбы"
   ]
  },
  {
   "cell_type": "code",
   "execution_count": null,
   "metadata": {},
   "outputs": [],
   "source": [
    "# верный, но нелаконичный вариант\n",
    "month = input('Введите месяц ')\n",
    "date = int(input('Введите число '))\n",
    "\n",
    "if month == 'январь' and date <= 20:    \n",
    "    print('Козерог')\n",
    "elif month == 'январь' and date >= 20:    \n",
    "    print('Водолей')\n",
    "elif month == 'февраль' and date <= 18:    \n",
    "    print('Водолей')\n",
    "elif month == 'февраль' and date >= 18:    \n",
    "    print('Рыбы')\n",
    "elif month == 'март' and date <= 20:    \n",
    "    print('Рыбы')\n",
    "elif month == 'март' and date >= 20:    \n",
    "    print('Овен')\n",
    "elif month == 'апрель' and date <= 21:    \n",
    "    print('Овен')\n",
    "elif month == 'апрель' and date >= 21:    \n",
    "    print('Телец')\n",
    "elif month == 'май' and date <= 20:    \n",
    "    print('Телец')\n",
    "elif month == 'май' and date >= 20:    \n",
    "    print('Близнецы')\n",
    "elif month == 'июнь' and date <= 21:    \n",
    "    print('Близнецы')\n",
    "elif month == 'июнь' and date >= 21:    \n",
    "    print('Рак')\n",
    "elif month == 'июль' and date <= 22:    \n",
    "    print('Рак')\n",
    "elif month == 'июль' and date >= 22:    \n",
    "    print('Лев')\n",
    "elif month == 'август' and date <= 22:    \n",
    "    print('Лев')\n",
    "elif month == 'август' and date >= 22:    \n",
    "    print('Дева')\n",
    "elif month == 'сентябрь' and date <= 22:    \n",
    "    print('Дева')\n",
    "elif month == 'сентябрь' and date >= 22:    \n",
    "    print('Весы')\n",
    "elif month == 'октябрь' and date <= 22:    \n",
    "    print('Весы')\n",
    "elif month == 'октябрь' and date >= 22:    \n",
    "    print('Скорпион')\n",
    "elif month == 'ноябрь' and date <= 22:    \n",
    "    print('Скорпион')\n",
    "elif month == 'ноябрь' and date >= 22:    \n",
    "    print('Стрелец')\n",
    "elif month == 'декабрь' and date <= 21:    \n",
    "    print('Стрелец')\n",
    "elif month == 'декабрь' and date >= 21:    \n",
    "    print('Козерог')"
   ]
  },
  {
   "cell_type": "code",
   "execution_count": null,
   "metadata": {},
   "outputs": [],
   "source": [
    "# верный, но нелаконичный вариант\n",
    "month = input('Ввведите месяц ')\n",
    "date = int(input('Ввведите дату '))\n",
    "if month == 'январь':\n",
    "    if 1 < date < 21: print('Козерог')\n",
    "    elif 21 <= date <= 31: print('Водолей')\n",
    "elif month == 'февраль':\n",
    "    if 1 < date < 21 : print('Водолей')\n",
    "    elif 21 <= date <= 29: print('Рыбы')\n",
    "elif month == 'март':\n",
    "    if 1 < date < 21: print('Рыбы')\n",
    "    elif 21 <= date <= 31: print('Овен')\n",
    "elif month == 'апрель':\n",
    "    if 1 < date < 21: print('Овен')\n",
    "    elif 21 <= date <= 30: print('Телец')\n",
    "elif month == 'май':\n",
    "    if 1 < date < 21: print('Телец')\n",
    "    elif 21 <= date <= 31: print('Близнецы')\n",
    "elif month == 'июнь':\n",
    "    if 1 < date < 22: print('Близнецы')\n",
    "    elif 22 <= date <= 30: print('Рак')\n",
    "elif month == 'июль':\n",
    "    if 1 < date < 23: print('Рак')\n",
    "    elif 23 <= date <= 31: print('Лев')\n",
    "elif month == 'август':from django.views.generic import ListView\n",
    "from django.shortcuts import render\n",
    "\n",
    "from .models import Article\n",
    "    if 1 < date < 24: print('Дева')\n",
    "    elif 24 <= date <= 30: print('Весы')\n",
    "elif month == 'октябрь':\n",
    "    if 1 < date < 23: print('Весы')\n",
    "    elif 24 <= date <= 30: print('Скорпион')\n",
    "elif month == 'ноябрь':\n",
    "    if 1 < date < 23: print('Скорпион')\n",
    "    elif 24<=date<=30: print('Стрелец')\n",
    "elif month == 'декабрь':\n",
    "    if 1 < date < 23: print('Стрелец')\n",
    "    elif 24 <= date <= 30: print('Козерог')\n",
    "else: print('ошибка ввода')"
   ]
  },
  {
   "cell_type": "code",
   "execution_count": null,
   "metadata": {},
   "outputs": [],
   "source": [
    "# оживаедмый вариант\n",
    "month = input('Введите месяц ')\n",
    "date = int(input('Введите число '))\n",
    "if (month == 'апрель' and date >= 21) or (month == 'май' and date <= 20):\n",
    "    print('Телец')\n",
    "elif (month == 'май' and date >= 21) or (month == 'июнь' and date <= 21):\n",
    "    print('Близнецы')\n",
    "elif (month == 'июнь' and date >= 22) or (month == 'июль' and date <= 22):\n",
    "    print('Рак')\n",
    "elif (month == 'июль' and date >= 23) or (month == 'август' and date <= 23):\n",
    "    print('Лев')\n",
    "elif (month == 'август' and date >= 24) or (month == 'сентябрь' and date <= 23):\n",
    "    print('Дева')\n",
    "elif (month == 'сентябрь' and date >= 24) or (month == 'октябрь' and date <= 23):\n",
    "    print('Весы')\n",
    "elif (month == 'октябрь' and date >= 24) or (month == 'ноябрь' and date <= 22):\n",
    "    print('Скорпион')\n",
    "elif (month == 'ноябрь' and date >= 23) or (month == 'декабрь' and date <= 21):\n",
    "    print('Стрелец')\n",
    "elif (month == 'декабрь' and date >= 22) or (month == 'январь' and date <= 20):\n",
    "    print('Козерог')\n",
    "elif (month == 'январь' and date >= 21) or (month == 'февраль' and date <= 20):\n",
    "    print('Водолей')\n",
    "elif (month == 'февраль' and date >= 21) or (month == 'март' and date <= 20):\n",
    "    print('Рыбы')\n",
    "elif (month == 'март' and date >= 21) or (month == 'апрель' and date <= 20):\n",
    "    print('Овен')"
   ]
  },
  {
   "cell_type": "markdown",
   "metadata": {},
   "source": [
    "**Задание 4**. Нужно разработать приложение для финансового планирования.\n",
    "Приложение учитывает сколько уходит на ипотеку, \"на жизнь\" и сколько нужно отложить на пенсию.\n",
    "Пользователь вводит:\n",
    "- заработанную плату в месяц.\n",
    "- сколько процентов от ЗП уходит на ипотеку.\n",
    "- сколько процентов от ЗП уходит \"на жизнь\".\n",
    "- сколько раз приходит премия в год.\n",
    "\n",
    "Остальная часть заработанной платы откладывается на пенсию.\n",
    "\n",
    "Также пользователю приходит премия в размере зарплаты, от которой половина уходит на отпуск, а вторая половина откладывается.\n",
    "\n",
    "Программа должна учитывать сколько премий было в год.\n",
    "\n",
    "Нужно вывести сколько денег тратит пользователь на ипотеку и сколько он накопит за год.\n",
    "\n",
    "Пример:\n",
    "\n",
    "Введите заработанную плату в месяц: 100000\n",
    "\n",
    "Введите сколько процентов уходит на ипотеку: 30\n",
    "\n",
    "Введите сколько процентов уходит на жизнь: 50\n",
    "\n",
    "Введите количество премий за год: 2\n",
    "\n",
    "Вывод:\n",
    "На ипотеку было потрачено: 360000 рублей\n",
    "Было накоплено: 340000 рублей"
   ]
  },
  {
   "cell_type": "code",
   "execution_count": null,
   "metadata": {},
   "outputs": [],
   "source": [
    "#ожидаемый вариант\n",
    "monthly_salary = int(input('Введите месячную зарплату '))\n",
    "mortgage = int(input('Введите % от ЗП на ипотеку '))\n",
    "life_costs = int(input('Введите % от ЗП \"на жизнь\" '))\n",
    "bonus = int(input('Количество премий в году '))\n",
    "mortgage_year = monthly_salary * mortgage / 100 * 12\n",
    "retirement = (monthly_salary - monthly_salary * mortgage / 100 - monthly_salary * life_costs / 100) * \\\n",
    "                12 + bonus * monthly_salary * 0.5\n",
    "print(f'На ипотеку было потрачено: {mortgage_year} рублей. Было накоплено: {retirement} рублей')"
   ]
  },
  {
   "cell_type": "markdown",
   "metadata": {},
   "source": [
    "### Домашнее задание № 2"
   ]
  },
  {
   "cell_type": "markdown",
   "metadata": {},
   "source": [
    "**Задача 1.** Мы делаем MVP dating-сервиса, и у нас есть список парней и девушек (их число может варьироваться):"
   ]
  },
  {
   "cell_type": "code",
   "execution_count": null,
   "metadata": {},
   "outputs": [],
   "source": [
    "boys = ['Peter', 'Alex', 'John', 'Arthur', 'Richard']\n",
    "girls = ['Kate', 'Liza', 'Kira', 'Emma', 'Trisha']"
   ]
  },
  {
   "cell_type": "markdown",
   "metadata": {},
   "source": [
    "Выдвигаем гипотезу: лучшие рекомендации мы получим, если просто отсортируем имена по алфавиту и познакомим людей с одинаковыми индексами после сортировки! \"Познакомить\" пары нам поможет функция zip, а в цикле распакуем zip-объект и выведем информацию в виде:\n",
    "\n",
    "Идеальные пары:  \n",
    "Alex и Emma  \n",
    "Arthur и Kate  \n",
    "John и Kira  \n",
    "Peter и Liza  \n",
    "Richard и Trisha  "
   ]
  },
  {
   "cell_type": "code",
   "execution_count": null,
   "metadata": {},
   "outputs": [],
   "source": [
    "print(\"Идеальные пары:\")\n",
    "for names in list(zip(sorted(boys), sorted(girls))):\n",
    "    print(f\"{names[0]} и {names[1]}\")"
   ]
  },
  {
   "cell_type": "markdown",
   "metadata": {},
   "source": [
    "**Задача 2.** У нас есть список, содержащий информацию о среднедневной температуре в Фаренгейтах за недельный период по странам.\n",
    "Необходимо написать код, который рассчитает среднюю температуру за неделю в Цельсиях для каждой страны."
   ]
  },
  {
   "cell_type": "code",
   "execution_count": null,
   "metadata": {},
   "outputs": [],
   "source": [
    "countries_temperature = [\n",
    " ['Thailand', [75.2, 77, 78.8, 73.4, 68, 75.2, 77]],\n",
    " ['Germany', [57.2, 55.4, 59, 59, 53.6, 55.4, 57.2]],\n",
    " ['Russia', [35.6, 37.4, 39.2, 41, 42.8, 39.2, 35.6]],\n",
    " ['Poland', [50, 50, 53.6, 57.2, 55.4, 55.4, 51.8]],\n",
    "]"
   ]
  },
  {
   "cell_type": "code",
   "execution_count": null,
   "metadata": {},
   "outputs": [],
   "source": [
    "for country in countries_temperature:\n",
    "    sum_temperature = 0\n",
    "    for temperature in country [1]:\n",
    "        sum_temperature += (temperature - 32) * 5 / 9\n",
    "    print(country[0], '–', round(sum_temperature / len(country[1]), 2))"
   ]
  },
  {
   "cell_type": "code",
   "execution_count": null,
   "metadata": {},
   "outputs": [],
   "source": [
    "for country in countries_temperature:\n",
    "    print(f\"{country[0]}: {round(((sum(country[1]) / len(country[1]) -  32) * 5 / 9), 2)}\")"
   ]
  },
  {
   "cell_type": "markdown",
   "metadata": {},
   "source": [
    "**Задача 3.** Дан поток логов по количеству просмотренных страниц для каждого пользователя. Список отсортирован по ID пользователя. Вам необходимо написать алгоритм, который считает среднее значение просмотров на пользователя. \n",
    "Т. е. надо посчитать отношение суммы всех просмотров к количеству уникальных пользователей."
   ]
  },
  {
   "cell_type": "code",
   "execution_count": null,
   "metadata": {},
   "outputs": [],
   "source": [
    "stream = [\n",
    "    '2018-01-01,user1,3',\n",
    "    '2018-01-07,user1,4',\n",
    "    '2018-03-29,user1,1',\n",
    "    '2018-04-04,user1,13',\n",
    "    '2018-01-05,user2,7',\n",
    "    '2018-06-14,user3,4',\n",
    "    '2018-07-02,user3,10',\n",
    "    '2018-03-21,user4,19',\n",
    "    '2018-03-22,user4,4',\n",
    "    '2018-04-22,user4,8',\n",
    "    '2018-05-03,user4,9',\n",
    "    '2018-05-11,user4,11',\n",
    "]"
   ]
  },
  {
   "cell_type": "code",
   "execution_count": null,
   "metadata": {},
   "outputs": [],
   "source": [
    "unique_users = []\n",
    "total_views = 0\n",
    "for visit in stream:\n",
    "    visit = visit.split(',')\n",
    "    total_views += int(visit[2])\n",
    "    if visit[1] not in unique_users:\n",
    "        unique_users.append(visit[1])\n",
    "\n",
    "print(round(total_pages / len(unique_users), 2))"
   ]
  },
  {
   "cell_type": "code",
   "execution_count": null,
   "metadata": {},
   "outputs": [],
   "source": [
    "# более лаконичный вариант с множествами\n",
    "unique_users = set()\n",
    "total_views = 0\n",
    "for visit in stream:\n",
    "    unique_users.add(visit.split(',')[1]) \n",
    "    total_views += int(visit.split(',')[2])\n",
    "    \n",
    "print(f'среднее значение просмотров на пользователя: {total_pages/len(unique_users)}')"
   ]
  },
  {
   "cell_type": "markdown",
   "metadata": {},
   "source": [
    "**Задача 4.** Дана статистика рекламных кампаний по дням. Напишите алгоритм, который по паре дата-кампания ищет значение численного столбца. \n",
    "Т. е. для даты '2018-01-01' и 'google' нужно получить число 25. \n",
    "Считайте, что все комбинации дата-кампания уникальны."
   ]
  },
  {
   "cell_type": "code",
   "execution_count": null,
   "metadata": {},
   "outputs": [],
   "source": [
    "stats = [\n",
    "    ['2018-01-01', 'google', 25],\n",
    "    ['2018-01-01', 'yandex', 65],\n",
    "    ['2018-01-01', 'market', 89],\n",
    "    ['2018-01-02', 'google', 574],\n",
    "    ['2018-01-02', 'yandex', 249],\n",
    "    ['2018-01-02', 'market', 994],\n",
    "    ['2018-01-03', 'google', 1843],\n",
    "    ['2018-01-03', 'yandex', 1327],\n",
    "    ['2018-01-03', 'market', 1764],\n",
    "]"
   ]
  },
  {
   "cell_type": "code",
   "execution_count": null,
   "metadata": {},
   "outputs": [],
   "source": [
    "# немного некрасивый вариант, но рабочий\n",
    "date = '2018-01-02'\n",
    "company = 'yandex'\n",
    "for stat in stats:\n",
    "    if date==stat[0]:\n",
    "        if company==stat[1]:\n",
    "            print(stat[2])"
   ]
  },
  {
   "cell_type": "code",
   "execution_count": null,
   "metadata": {},
   "outputs": [],
   "source": [
    "# хороший вариант\n",
    "date = '2018-01-02'\n",
    "company = 'yandex'\n",
    "for stat in stats:\n",
    "    if company in stat and date in stat:\n",
    "        print(stat[2])"
   ]
  },
  {
   "cell_type": "code",
   "execution_count": null,
   "metadata": {},
   "outputs": [],
   "source": [
    "# красивое решение в 1 строку, используем lambda-функцию\n",
    "list(filter(lambda stat: date in stat and company in stat, stats))"
   ]
  },
  {
   "cell_type": "code",
   "execution_count": null,
   "metadata": {},
   "outputs": [],
   "source": [
    "list(filter(lambda stat: date in stat and company in stat, stats))[0][2]"
   ]
  },
  {
   "cell_type": "markdown",
   "metadata": {},
   "source": [
    "### Домашнее задание № 3"
   ]
  },
  {
   "cell_type": "markdown",
   "metadata": {},
   "source": [
    "**Задача 1.** Дан список с визитами по городам и странам. Напишите код, который возвращает отфильтрованный список geo_logs, содержащий только визиты из России."
   ]
  },
  {
   "cell_type": "code",
   "execution_count": null,
   "metadata": {},
   "outputs": [],
   "source": [
    "geo_logs = [\n",
    "    {'visit1': ['Москва', 'Россия']},\n",
    "    {'visit2': ['Дели', 'Индия']},\n",
    "    {'visit3': ['Владимир', 'Россия']},\n",
    "    {'visit4': ['Лиссабон', 'Португалия']},\n",
    "    {'visit5': ['Париж', 'Франция']},\n",
    "    {'visit6': ['Лиссабон', 'Португалия']},\n",
    "    {'visit7': ['Тула', 'Россия']},\n",
    "    {'visit8': ['Тула', 'Россия']},\n",
    "    {'visit9': ['Курск', 'Россия']},\n",
    "    {'visit10': ['Архангельск', 'Россия']}\n",
    "]"
   ]
  },
  {
   "cell_type": "code",
   "execution_count": null,
   "metadata": {},
   "outputs": [],
   "source": [
    "# Плохой вариант\n",
    "for n in geo_logs:\n",
    "    for i in n.values():\n",
    "        if i[1] != 'Россия':\n",
    "            geo_logs.remove(n)\n",
    "print(geo_logs)"
   ]
  },
  {
   "cell_type": "markdown",
   "metadata": {},
   "source": [
    "Почему этот вариант плохой?  \n",
    "1) Потому что мы меняем объект прямо во время итерирования по нему  \n",
    "2) Мы используем вложенный цикл, без которого можно обойтись (что плохо при прочих равных)."
   ]
  },
  {
   "cell_type": "code",
   "execution_count": null,
   "metadata": {},
   "outputs": [],
   "source": [
    "# допустимый вариант, который не совсем соответствует условию\n",
    "result = []\n",
    "for visit in geo_logs:\n",
    "#     print(visit.values())\n",
    "    if 'Россия' in list(visit.values())[0]:\n",
    "        result.append(visit)\n",
    "        \n",
    "result"
   ]
  },
  {
   "cell_type": "code",
   "execution_count": null,
   "metadata": {},
   "outputs": [],
   "source": [
    "# более корректынй вариант, который соответствует условию\n",
    "\n",
    "geo_logs_2 = geo_logs.copy()\n",
    "\n",
    "for visit in geo_logs_2:\n",
    "    if 'Россия' not in list(visit.values())[0]:\n",
    "        geo_logs.remove(visit)\n",
    "        \n",
    "geo_logs"
   ]
  },
  {
   "cell_type": "markdown",
   "metadata": {},
   "source": [
    "**Задача 2.** Выведите на экран все уникальные гео-ID из значений словаря ids. Т. е. список вида [213, 15, 54, 119, 98, 35]"
   ]
  },
  {
   "cell_type": "code",
   "execution_count": null,
   "metadata": {},
   "outputs": [],
   "source": [
    "ids = {'user1': [213, 213, 213, 15, 213], \n",
    "       'user2': [54, 54, 119, 119, 119], \n",
    "       'user3': [213, 98, 98, 35]}"
   ]
  },
  {
   "cell_type": "code",
   "execution_count": null,
   "metadata": {},
   "outputs": [],
   "source": [
    "# допустимый вариант, не идеальный из-за вложенного цикла\n",
    "result = []\n",
    "for v in list(ids.values()):\n",
    "#     print(v)\n",
    "    for i in v:\n",
    "#         print(i)\n",
    "        if i not in result:\n",
    "            result.append(i)\n",
    "result"
   ]
  },
  {
   "cell_type": "code",
   "execution_count": null,
   "metadata": {},
   "outputs": [],
   "source": [
    "# хорошие варианты\n",
    "result = []\n",
    "for v in list(ids.values()):\n",
    "#     print(v)\n",
    "    result += v\n",
    "list(set(result))"
   ]
  },
  {
   "cell_type": "code",
   "execution_count": null,
   "metadata": {},
   "outputs": [],
   "source": [
    "# вариант еще лучше, т.к. не нужно в памяти хранить один очень большой объект\n",
    "result = set()\n",
    "for v in list(ids.values()):\n",
    "    result.update(v)\n",
    "list(result)"
   ]
  },
  {
   "cell_type": "code",
   "execution_count": null,
   "metadata": {},
   "outputs": [],
   "source": [
    "# хитрый вариант в одну строк (за рамками материала лекций)\n",
    "list(set(sum(list(ids.values()), [])))"
   ]
  },
  {
   "cell_type": "code",
   "execution_count": null,
   "metadata": {},
   "outputs": [],
   "source": [
    "# ids.values()\n",
    "# list(ids.values())\n",
    "# sum(list(ids.values()))"
   ]
  },
  {
   "cell_type": "markdown",
   "metadata": {},
   "source": [
    "Ссылка для ознакомления (суммирование вложенных списков): https://stackoverflow.com/questions/13334722/sum-for-list-of-lists"
   ]
  },
  {
   "cell_type": "markdown",
   "metadata": {},
   "source": [
    "**Задача 3.** Дан список поисковых запросов. Получить распределение количества слов в них. Т. е. поисковых запросов из одного - слова 5%, из двух - 7%, из трех - 3% и т.д."
   ]
  },
  {
   "cell_type": "code",
   "execution_count": null,
   "metadata": {},
   "outputs": [],
   "source": [
    "queries = [\n",
    "    'смотреть сериалы онлайн',\n",
    "    'новости спорта',\n",
    "    'афиша кино',\n",
    "    'курс доллара',\n",
    "    'сериалы этим летом',\n",
    "    'курс по питону',\n",
    "    'сериалы про спорт',\n",
    "]"
   ]
  },
  {
   "cell_type": "code",
   "execution_count": null,
   "metadata": {},
   "outputs": [],
   "source": [
    "# плохой вариант, т.к. ограничивается только данными из примера\n",
    "element_sum = 0\n",
    "output = []\n",
    "for element in queries:\n",
    "    output.append(len(element.split()))\n",
    "# print(output)   \n",
    "print(\"Из трех слов состоят: \", round(output.count(3)/ len(output) * 100, 2), \" %\", sep=\"\")\n",
    "print(\"Из двух слов состоят: \", round(output.count(2)/ len(output) * 100, 2), \" %\", sep=\"\")"
   ]
  },
  {
   "cell_type": "code",
   "execution_count": null,
   "metadata": {},
   "outputs": [],
   "source": [
    "# хороший и логически красивый вариант на множествах\n",
    "words_in_query = []\n",
    "for s in queries:\n",
    "#     print(s)\n",
    "#     print(s.split())\n",
    "#     print(len(s.split()))\n",
    "    words_in_query.append(len(s.split()))\n",
    "# print(words_in_query)\n",
    "for i in set(words_in_query):\n",
    "    print(f'Запросов с {i} словами: {(words_in_query.count(i) / len(queries)) * 100} процентов')"
   ]
  },
  {
   "cell_type": "code",
   "execution_count": null,
   "metadata": {},
   "outputs": [],
   "source": [
    "# очень похожий вариант на словарях\n",
    "frequency = {}\n",
    "\n",
    "for i in queries:\n",
    "    if len(i.split(' ')) not in frequency:\n",
    "        frequency[len(i.split(' '))] = 1\n",
    "    else:\n",
    "        frequency[len(i.split(' '))] += 1\n",
    "\n",
    "# print(frequency)\n",
    "for key, value in frequency.items():\n",
    "    print(f\"{key}-словных запросов: {round(value / len(queries) * 100, 1)}%\")"
   ]
  },
  {
   "cell_type": "code",
   "execution_count": null,
   "metadata": {},
   "outputs": [],
   "source": [
    "# используем Counter из библиотеки collection, который помогает считать количество вхождений элементов в объект\n",
    "from collections import Counter\n",
    "# print([len(query.split()) for query in queries])\n",
    "counter = Counter([round(len(query.split()) / len(queries) * 100, 2) for query in queries])\n",
    "\n",
    "counter"
   ]
  },
  {
   "cell_type": "markdown",
   "metadata": {},
   "source": [
    "**Задача 4.** Дана статистика рекламных каналов по объемам продаж. Напишите скрипт, который возвращает название канала с максимальным объемом.\n",
    "Т. е. в данном примере скрипт должен возвращать 'yandex'."
   ]
  },
  {
   "cell_type": "code",
   "execution_count": null,
   "metadata": {},
   "outputs": [],
   "source": [
    "# неправильный вариант (лексикографическое сравнение строк!)\n",
    "max(stats)"
   ]
  },
  {
   "cell_type": "code",
   "execution_count": null,
   "metadata": {},
   "outputs": [],
   "source": [
    "# решение без доп. материалов\n",
    "max_sales = 0\n",
    "for channel in stats:\n",
    "#     print(channel)\n",
    "#     print(stats[channel])\n",
    "    if  stats[channel] > max_sales:\n",
    "        max_sales = stats[channel]     \n",
    "        max_sales_channel = channel\n",
    "print(\"Максимальный объем продаж: \", max_sales,\"по каналу \", max_sales_channel)"
   ]
  },
  {
   "cell_type": "code",
   "execution_count": null,
   "metadata": {},
   "outputs": [],
   "source": [
    "# используем функцию max\n",
    "for i in stats:\n",
    "    if stats[i] == max(stats.values()):\n",
    "        print(i)"
   ]
  },
  {
   "cell_type": "code",
   "execution_count": null,
   "metadata": {},
   "outputs": [],
   "source": [
    "# красивый вариант в 1 строку с max и get\n",
    "max(stats, key=stats.get)"
   ]
  },
  {
   "cell_type": "markdown",
   "metadata": {},
   "source": [
    "Ссылка для ознакомления (получаем максимальное значение в словаре): https://stackoverflow.com/questions/268272/getting-key-with-maximum-value-in-dictionary"
   ]
  },
  {
   "cell_type": "markdown",
   "metadata": {},
   "source": [
    "### Домашнее задание № 4"
   ]
  },
  {
   "cell_type": "markdown",
   "metadata": {},
   "source": [
    "**Задача 1.** Дан список вида:"
   ]
  },
  {
   "cell_type": "code",
   "execution_count": null,
   "metadata": {},
   "outputs": [],
   "source": [
    "data = [\n",
    "    [13, 25, 23, 34],\n",
    "    [45, 32, 44, 47],\n",
    "    [12, 33, 23, 95],\n",
    "    [13, 53, 34, 35]\n",
    "]"
   ]
  },
  {
   "cell_type": "markdown",
   "metadata": {},
   "source": [
    "Напишите функцию, которая возвращает сумму элементов на диагонали. Т. е. 13+32+23+35."
   ]
  },
  {
   "cell_type": "code",
   "execution_count": null,
   "metadata": {},
   "outputs": [],
   "source": [
    "# верный вариант без дополнительных изысков\n",
    "def diagonal_sum(data):\n",
    "    pointer = 0\n",
    "    result = 0\n",
    "    for row in data:\n",
    "        result += row[pointer]\n",
    "        pointer +=1\n",
    "    return result \n",
    "        \n",
    "diagonal_sum(data)"
   ]
  },
  {
   "cell_type": "code",
   "execution_count": null,
   "metadata": {},
   "outputs": [],
   "source": [
    "# хороший вариант с enumerate\n",
    "def matrix_diagonal_sum(matrix):\n",
    "    sum_result = 0\n",
    "    for i, value in enumerate(matrix):\n",
    "        sum_result += float(matrix[i][i])\n",
    "    return sum_result\n",
    "\n",
    "matrix_diagonal_sum(data)"
   ]
  },
  {
   "cell_type": "code",
   "execution_count": null,
   "metadata": {},
   "outputs": [],
   "source": [
    "# красивый вариант в одну строку с помощью list comprehension и enumerate\n",
    "def diag_sum(data):\n",
    "    return sum([(l[index]) for index, l in enumerate(data)])\n",
    "\n",
    "diag_sum(data)"
   ]
  },
  {
   "cell_type": "markdown",
   "metadata": {},
   "source": [
    "**Задача 2.** Напишите функцию, возвращающую сумму первых n чисел Фибоначчи.\n",
    "https://ru.wikipedia.org/wiki/%D0%A7%D0%B8%D1%81%D0%BB%D0%B0_%D0%A4%D0%B8%D0%B1%D0%BE%D0%BD%D0%B0%D1%87%D1%87%D0%B8"
   ]
  },
  {
   "cell_type": "code",
   "execution_count": null,
   "metadata": {},
   "outputs": [],
   "source": [
    "def fib(n):\n",
    "    x = 0\n",
    "    y = 1\n",
    "    fib_list = [] \n",
    "    for i in range(n):\n",
    "        x, y = y, x + y\n",
    "        fib_list.append(x)\n",
    "    return sum(fib_list)\n",
    "\n",
    "fib_n(10)"
   ]
  },
  {
   "cell_type": "code",
   "execution_count": 3,
   "metadata": {},
   "outputs": [
    {
     "data": {
      "text/plain": [
       "20"
      ]
     },
     "execution_count": 3,
     "metadata": {},
     "output_type": "execute_result"
    }
   ],
   "source": [
    "def fib(n):\n",
    "    res = 0\n",
    "    x = 0\n",
    "    y = 1\n",
    "    for i in range(n):\n",
    "        x, y, res = y, x + y, res + y\n",
    "    return res\n",
    "  \n",
    "fib(6)"
   ]
  },
  {
   "cell_type": "code",
   "execution_count": 2,
   "metadata": {},
   "outputs": [
    {
     "name": "stdout",
     "output_type": "stream",
     "text": [
      "20\n"
     ]
    }
   ],
   "source": [
    "# очень хороший вариант без рекурсии, главное разобраться с индексами\n",
    "def fib(n):\n",
    "    seq = [0, 1]\n",
    "    for i in range(2, n + 1):\n",
    "        seq.append(seq[i-1] + seq[i-2])\n",
    "    print(sum(seq))\n",
    "    \n",
    "fib(6)"
   ]
  },
  {
   "cell_type": "code",
   "execution_count": 1,
   "metadata": {},
   "outputs": [
    {
     "data": {
      "text/plain": [
       "20"
      ]
     },
     "execution_count": 1,
     "metadata": {},
     "output_type": "execute_result"
    }
   ],
   "source": [
    "def fib(x):\n",
    "    if x in (0, 1):\n",
    "        return 1\n",
    "    else:\n",
    "        return fib(x - 2) + fib(x - 1) \n",
    "\n",
    "num = 6\n",
    "res = sum([fib(n) for n in range(num)])\n",
    "res"
   ]
  },
  {
   "cell_type": "markdown",
   "metadata": {},
   "source": [
    "**Задача 3.** Напишите функцию, преобразующую произвольный список вида ['2018-01-01', 'yandex', 'cpc', 100] (он может быть любой длины) в словарь {'2018-01-01': {'yandex': {'cpc': 100}}}"
   ]
  },
  {
   "cell_type": "code",
   "execution_count": null,
   "metadata": {},
   "outputs": [],
   "source": [
    "crazy_list = ['2018-01-01', 'yandex', 'cpc', 100, 500, 600]"
   ]
  },
  {
   "cell_type": "code",
   "execution_count": null,
   "metadata": {},
   "outputs": [],
   "source": [
    "# без рекурсии\n",
    "def crazy_nested_list(some_list):\n",
    "    some_var = some_list[-1]\n",
    "    for i in some_list[-2::-1]:\n",
    "        some_var = {i : some_var}\n",
    "    \n",
    "    return some_var\n",
    "    \n",
    "crazy_nested_list(crazy_list)"
   ]
  },
  {
   "cell_type": "code",
   "execution_count": null,
   "metadata": {},
   "outputs": [],
   "source": [
    "def crazy_nested_list(some_list):\n",
    "    dictionary = {some_list[len(some_list) - 2]: some_list[len(some_list) - 1]}\n",
    "    for index in reversed(range(0, len(some_list) - 2)):\n",
    "        dictionary = {some_list[index]: dictionary}        \n",
    "    return dictionary\n",
    "\n",
    "crazy_nested_list(crazy_list)"
   ]
  },
  {
   "cell_type": "code",
   "execution_count": null,
   "metadata": {},
   "outputs": [],
   "source": [
    "# с рекурсией\n",
    "def crazy_nested_list(some_list):\n",
    "    if len(some_list) == 1:\n",
    "        return some_list[0]\n",
    "    return {some_list[0]:crazy_nested_list(some_list[1:])}\n",
    "\n",
    "crazy_nested_list(crazy_list)"
   ]
  },
  {
   "cell_type": "code",
   "execution_count": null,
   "metadata": {},
   "outputs": [],
   "source": [
    "# http://pythonicway.com/python-functinal-programming\n",
    "from functools import reduce\n",
    "def crazy_nested_list(some_list):\n",
    "    result = reduce(lambda value, key: {key: value}, reversed(some_list))\n",
    "    return result\n",
    "\n",
    "print(crazy_nested_list(crazy_list))"
   ]
  },
  {
   "cell_type": "markdown",
   "metadata": {},
   "source": [
    "**Задача 4.** Вы работаете секретарем и вам постоянно приходят различные документы. Вы должны быть очень внимательны, чтобы не потерять ни один документ. Каталог документов хранится в следующем виде:"
   ]
  },
  {
   "cell_type": "code",
   "execution_count": null,
   "metadata": {},
   "outputs": [],
   "source": [
    "documents = [\n",
    "    {'type': 'passport', 'number': '2207 876234', 'name': 'Василий Гупкин'},\n",
    "    {'type': 'invoice', 'number': '11-2', 'name': 'Геннадий Покемонов'},\n",
    "    {'type': 'insurance', 'number': '10006', 'name': 'Аристарх Павлов'}\n",
    "]"
   ]
  },
  {
   "cell_type": "markdown",
   "metadata": {},
   "source": [
    "Перечень полок, на которых находятся документы хранится в следующем виде:"
   ]
  },
  {
   "cell_type": "code",
   "execution_count": null,
   "metadata": {},
   "outputs": [],
   "source": [
    "directories = {\n",
    "    '1': ['2207 876234', '11-2', '5455 028765'],\n",
    "    '2': ['10006', '5400 028765', '5455 002299'],\n",
    "    '3': []\n",
    "}"
   ]
  },
  {
   "cell_type": "markdown",
   "metadata": {},
   "source": [
    "Необходимо реализовать пользовательские команды (внимание! это не название функций, которые должны быть выразительными, а команды, которые вводит пользователь, чтобы получить необходимый результат):\n",
    "  \n",
    "- p – people – команда, которая спросит номер документа и выведет имя человека, которому он принадлежит;  \n",
    "- s – shelf – команда, которая спросит номер документа и выведет номер полки, на которой он находится  \n",
    "Правильно обработайте ситуацию, когда пользователь будет вводить несуществующий документ.\n",
    "- l – list – команда, которая выведет список всех документов в формате   \n",
    "**passport \"2207 876234\" \"Василий Гупкин\"**  \n",
    "- as – add shelf – команда, которая спросит номер новой полки и добавит ее в перечень\n",
    "- d – delete – команда, которая спросит номер документа и удалит его из каталога и из перечня полок. Предусмотрите сценарий, когда пользователь вводит несуществующий документ;  \n",
    "- m – move – команда, которая спросит номер документа и целевую полку и переместит его с текущей полки на целевую. Корректно обработайте кейсы, когда пользователь пытается переместить несуществующий документ или переместить документ на несуществующую полку;  \n",
    "- a – add – команда, которая добавит новый документ в каталог и в перечень полок, спросив его номер, тип, имя владельца и номер полки, на котором он будет храниться."
   ]
  },
  {
   "cell_type": "code",
   "execution_count": null,
   "metadata": {},
   "outputs": [],
   "source": [
    "def get_name_from_docs(doc_number, documents):\n",
    "    for docs in documents:\n",
    "        if docs['number'] == doc_number:\n",
    "            return docs['name']\n",
    "    return 'Не найден такой документ.'\n",
    "\n",
    "def get_name_from_directories(doc_number, documents, directories):\n",
    "    for docs in documents:\n",
    "        if docs['number'] == doc_number:\n",
    "            for key, value in directories.items():\n",
    "                if docs['number'] in value:\n",
    "                    return 'Номер полки '+key\n",
    "            return 'Не найден номер полки для документа '+ docs['number']\n",
    "    return 'Не найден такой документ.'\n",
    "\n",
    "def get_docs_list(documents, directories):\n",
    "    for docs in documents:\n",
    "        print(docs['type']+' \"'+docs['number']+'\" \"'+docs['name']+'\"')\n",
    "    print(directories)\n",
    "\n",
    "def add_shelf(new_shelf, directories):\n",
    "    if directories.get(new_shelf):\n",
    "        print('Такая полка уже существует!')\n",
    "    else:\n",
    "        directories[new_shelf]=[]\n",
    "        print('Новая полка добавлена.\\nОбщий список: ',directories)\n",
    "    return True\n",
    "\n",
    "def delete_doc(doc_number, documents, directories):\n",
    "    doc_exist = 0\n",
    "    for docs in documents:\n",
    "        if doc_number in docs['number']:\n",
    "            doc_exist = 1\n",
    "    if not doc_exist:\n",
    "        print('Такого номера документа не существует!')\n",
    "        return False\n",
    "    i = 1\n",
    "    for docs in documents:\n",
    "        if docs['number'] == doc_number:        \n",
    "            for key, value in directories.items():\n",
    "                if docs['number'] in value:\n",
    "                    value.remove(docs['number'])\n",
    "                    print('Документ удален с полки', key)\n",
    "            print('Документ',documents.pop(i),'удален')\n",
    "            i += 1\n",
    "    return True\n",
    "\n",
    "def move_doc(documents, directories):\n",
    "    doc_number = input('Введите номер документа для перемещения: ')\n",
    "    doc_shelf = input('Введите номер полки для перемещения документа: ')\n",
    "    doc_exist = 0\n",
    "    for docs in documents:\n",
    "        if doc_number in docs['number']:\n",
    "            doc_exist = 1\n",
    "    if not doc_exist:\n",
    "        print('Такого номера документа не существует!')\n",
    "        return False\n",
    "    if doc_shelf not in directories:\n",
    "        print('Такой полки для перемещения документа не существует!')\n",
    "        return False\n",
    "    for docs in documents:\n",
    "        if docs['number'] == doc_number:        \n",
    "            for key, value in directories.items():\n",
    "                if docs['number'] in value:\n",
    "                    value.remove(docs['number'])\n",
    "                    directories[doc_shelf].append(docs['number'])\n",
    "                    print('Документ удален с полки', key, 'и перемещен на полку', doc_shelf)\n",
    "                    return True\n",
    "    return True\n",
    "\n",
    "def add_doc(documents, directories):\n",
    "    doc_number = input('Введите номер документа: ')\n",
    "    doc_type = input('Введите тип документа: ')\n",
    "    doc_name = input('Введите ФИО владельца документа: ')\n",
    "    doc_shelf = input('Введите номер полки для хранения документа: ')\n",
    "    if doc_shelf not in directories:\n",
    "        print('Такой полки для создания документа не существует!')\n",
    "        return False\n",
    "    documents.append({'type': doc_type, 'number': doc_number, 'name': doc_name})\n",
    "    directories[doc_shelf].append(doc_number)\n",
    "    return True\n",
    "    \n",
    "def main():\n",
    "    while True:\n",
    "        button = input('Введите команду: ')\n",
    "        if button == 'p':\n",
    "            print(get_name_from_docs(input('Введите номер документа: '), documents))\n",
    "        elif button == 's':\n",
    "            print(get_name_from_directories(input('Введите номер документа: '), documents, directories))\n",
    "        elif button == 'l':\n",
    "            get_docs_list(documents, directories)\n",
    "        elif button == 'as':\n",
    "            add_shelf(input('Введите номер новой полки: '), directories)\n",
    "        elif button == 'd':\n",
    "            delete_doc(input('Введите номер документа для удаления: '), documents, directories)\n",
    "        elif button == 'm':\n",
    "            move_doc(documents, directories)\n",
    "        elif button == 'a':\n",
    "            add_doc(documents, directories)\n",
    "        elif button == 'q':\n",
    "            break\n",
    "        else:\n",
    "            print(f'Допустимы только команды из перечня p,s,l,as,d,m,a.\\nВведите команду или нажмите q для выхода!')\n",
    "    return True"
   ]
  },
  {
   "cell_type": "code",
   "execution_count": null,
   "metadata": {},
   "outputs": [],
   "source": [
    "documents = [\n",
    "    {'type': 'passport', 'number': '2207 876234', 'name': 'Василий Гупкин'},\n",
    "    {'type': 'invoice', 'number': '11-2', 'name': 'Геннадий Покемонов'},\n",
    "    {'type': 'insurance', 'number': '10006', 'name': 'Аристарх Павлов'}\n",
    "]\n",
    "\n",
    "directories = {\n",
    "    '1': ['2207 876234', '11-2', '5455 028765'],\n",
    "    '2': ['10006', '5400 028765', '5455 002299'],\n",
    "    '3': []\n",
    "}\n",
    "\n",
    "def get_people(num_doc):\n",
    "    for doc_dict in documents:\n",
    "        if doc_dict['number'] == num_doc:\n",
    "            return doc_dict['name']\n",
    "    return 'Такого документа нет в базе'\n",
    "\n",
    "def get_shelf(num_doc):\n",
    "    for shelf, number in directories.items():\n",
    "        if num_doc in number:\n",
    "            return shelf\n",
    "    return 'Такого документа нет в базе'\n",
    "\n",
    "def get_list():\n",
    "    for document in documents:\n",
    "        document_list = ' '.join(document.values())\n",
    "        print(document_list)\n",
    "\n",
    "def add_shelf(num_shelf):\n",
    "    if num_shelf not in directories.keys():\n",
    "        directories[num_shelf] = []    \n",
    "        return directories\n",
    "\n",
    "def del_doc_directories(num_doc):\n",
    "    \"\"\"\n",
    "    Удаление документа с полки в directories\n",
    "    \"\"\"\n",
    "    for numbers in directories.values():\n",
    "        if num_doc in numbers:\n",
    "            numbers.remove(num_doc)\n",
    "            return  directories\n",
    "    return 'Такого документа нет в базе'\n",
    "\n",
    "def del_doc(num_doc):\n",
    "    for docs in documents:\n",
    "        if docs['number'] == num_doc:\n",
    "            documents.remove(docs)\n",
    "            return  documents, del_doc_directories(num_doc)\n",
    "    return 'Такого документа нет в базе'\n",
    "\n",
    "def check_num_doc(num_doc):\n",
    "    \"\"\"\n",
    "    Проверка наличия введенного номера на полках directories\n",
    "    \"\"\"\n",
    "    for numbers in directories.values():\n",
    "        if num_doc in numbers:\n",
    "            return True\n",
    "    return False\n",
    "\n",
    "def move_doc(num_doc):\n",
    "    if check_num_doc(num_doc):\n",
    "        shelf_number = input('Введите номер полки для перемещения: ')\n",
    "        if shelf_number in directories.keys():\n",
    "            del_doc_directories(num_doc)\n",
    "            directories[shelf_number].append(num_doc)\n",
    "            return directories   \n",
    "        return 'Такой полки не существует'\n",
    "    return 'Такого документа нет в базе'\n",
    "\n",
    "def check_num_doc2(num_doc):\n",
    "    \"\"\"\n",
    "    Проверка отсутствия введенного номера в каталоге documents\n",
    "    \"\"\"\n",
    "    for docs in documents:\n",
    "        if num_doc in docs.values():\n",
    "            return False\n",
    "    return True\n",
    "\n",
    "def add_doc(num_doc):\n",
    "    if check_num_doc2(num_doc):\n",
    "        type_doc = input('Введите тип документа: ')\n",
    "        name = input('Введите имя владельца: ')\n",
    "        new_doc = {'type': type_doc, 'number': num_doc, 'name': name}\n",
    "        documents.append(new_doc)\n",
    "        if check_num_doc(num_doc) == False:\n",
    "            shelf_number = input('Введите номер полки: ')\n",
    "            if shelf_number in directories.keys():\n",
    "                directories[shelf_number].append(num_doc)\n",
    "                return documents, directories   \n",
    "            return documents, add_shelf(shelf_number), directories[shelf_number].append(num_doc)\n",
    "        return 'Такой документ уже есть в каталоге', directories, documents\n",
    "    return 'Такой докумет уже есть в каталоге'\n",
    "\n",
    "def main(command):\n",
    "    if command == 'p':\n",
    "        return get_people(input('Введите номер документа: '))\n",
    "    elif command == 's':\n",
    "        return get_shelf(input('Введите номер документа: '))\n",
    "    elif command == 'l':\n",
    "        return get_list()\n",
    "    elif command == 'as':\n",
    "        return add_shelf(input('Введите номер полки для добавления: '))\n",
    "    elif command == 'd':\n",
    "        return del_doc(input('Введите номер документа для удаления: '))\n",
    "    elif command == 'm':\n",
    "        return move_doc(input('Введите номер документа: '))\n",
    "    elif command == 'a':\n",
    "        return add_doc(input('Введите номер документа: '))\n",
    "\n",
    "main(input('Введите команду: '))"
   ]
  },
  {
   "cell_type": "code",
   "execution_count": null,
   "metadata": {},
   "outputs": [],
   "source": [
    "documents = [\n",
    "    {'type': 'passport', 'number': '2207 876234', 'name': 'Василий Гупкин'},\n",
    "    {'type': 'invoice', 'number': '11-2', 'name': 'Геннадий Покемонов'},\n",
    "    {'type': 'insurance', 'number': '10006', 'name': 'Аристарх Павлов'}\n",
    "]\n",
    "directories = {\n",
    "    '1': ['2207 876234', '11-2', '5455 028765'],\n",
    "    '2': ['p', '5400 028765', '5455 002299'],\n",
    "    '3': []\n",
    "}\n",
    "\n",
    "def people():\n",
    "    doc_num = input(\"Для поиска ФИО введите номер документа: \")\n",
    "    for el in documents: \n",
    "        if el['number'] == doc_num:\n",
    "            print(el['name'])\n",
    "            return\n",
    "    print(\"Пользователя с таким номером документа не существует\")\n",
    "    \n",
    "def shelf():\n",
    "    doc_num = input(\"Для поиска номера полки введите номер документа: \")\n",
    "    for key, value in directories.items():\n",
    "        if value.count(doc_num) != 0:\n",
    "            print(\"Номер полки: \" + key)\n",
    "            return\n",
    "    print(\"Такого документа на полках не найдено\")\n",
    "\n",
    "def list_data():\n",
    "    for el in documents:\n",
    "        print(\"**\" + el['type'] + \" '\" + el['number'] + \"' '\" + el['name'] + \"'**\")\n",
    "\n",
    "def add_shelf():\n",
    "    shelf_num = input(\"Введите номер полки: \")\n",
    "    if list(directories.keys()).count(shelf_num) == 0:\n",
    "        directories.update({shelf_num:[]})\n",
    "        print(\"Полка с номером \" + shelf_num + \"добавлена\")\n",
    "    else: \n",
    "        print(\"Полка с таким номером уже существует\")\n",
    "\n",
    "def delete():\n",
    "    doc_num = input(\"Для удаления данных пользователя введите номер документа: \")\n",
    "    del_flag = False\n",
    "    for el in documents:\n",
    "        if el['number'] == doc_num:\n",
    "            doc_num = el['number']\n",
    "            documents.remove(el)\n",
    "            del_flag = True\n",
    "    if del_flag == False: \n",
    "        print(\"Номера такого документа не существует\")\n",
    "    for key, value in directories.items():\n",
    "        if value.count(doc_num) != 0:\n",
    "            directories[key].remove(doc_num)\n",
    "\n",
    "def move():\n",
    "    doc_num = input(\"Для перемещения документа введите номер документа: \")\n",
    "    if sum([value.count(doc_num) for value in directories.values()]) == 0:\n",
    "        print(\"Номера такого документа не существует\")\n",
    "        return\n",
    "    shelf_num_dest = input(\"Введите номер полки, куда нужно переместить документ: \")\n",
    "    if list(directories.keys()).count(shelf_num_dest) != 0:\n",
    "        for key, value in directories.items():\n",
    "            if value.count(doc_num) != 0:\n",
    "                directories[key].remove(doc_num)\n",
    "        directories[shelf_num_dest].append(doc_num)\n",
    "    else: \n",
    "        print(\"Полка с номером \" + shelf_num_dest + \" не существует\")\n",
    "\n",
    "def add():\n",
    "    doc_type = input(\"Для добавления информации введите тип документа: \")\n",
    "    doc_num = input(\"Для добавления информации введите номер документа: \")\n",
    "    for el in documents:\n",
    "        if el['number'] == doc_num and el['type'] == doc_type: \n",
    "            print(\"Пользователь с таким номером и типом документа уже существует\")\n",
    "            return    \n",
    "    doc_name = input(\"Введите имя пользователя: \")\n",
    "    shelf_num = input(\"Введите номер полки, на которой хотите разместить документ: \")\n",
    "    if list(directories.keys()).count(shelf_num) == 0:\n",
    "        print(\"Полки с таким номером не существует\")\n",
    "        return\n",
    "    documents.append({'type': doc_type, 'number': doc_num, 'name': doc_name})\n",
    "    directories[shelf_num].append(doc_num)\n",
    "    print(documents)\n",
    "    print(directories)\n",
    "    \n",
    "def main():\n",
    "    while True:\n",
    "        cmd = input(\"Введите команду либо для выхода введите команду q:\")\n",
    "        if cmd == 'p':\n",
    "            people()\n",
    "        elif cmd == 's': \n",
    "            shelf()\n",
    "        elif cmd == 'l': \n",
    "            list_data()\n",
    "        elif cmd == 'as':\n",
    "            add_shelf()\n",
    "        elif cmd == 'd':\n",
    "            delete()\n",
    "        elif cmd == 'm': \n",
    "            move()\n",
    "        elif cmd == 'a':\n",
    "            add()\n",
    "        elif cmd == 'q':\n",
    "            print('Сессия завершена')\n",
    "            break\n",
    "        else:\n",
    "            print(\"Неправильная команда\")\n",
    "        \n",
    "main()"
   ]
  },
  {
   "cell_type": "markdown",
   "metadata": {},
   "source": [
    "### Домашнее задание № 5"
   ]
  },
  {
   "cell_type": "code",
   "execution_count": null,
   "metadata": {},
   "outputs": [],
   "source": [
    "import json\n",
    "\n",
    "with open('purchase_log.txt', encoding='utf-8') as f:\n",
    "    purchases = {}\n",
    "    purchase_log = f.readlines()\n",
    "    for line in purchase_log:\n",
    "        line = line.strip()\n",
    "        p_line = json.loads(line)\n",
    "        if p_line['user_id'] != 'user_id':    \n",
    "            if (p_line['user_id'] not in purchases.keys()):\n",
    "                purchases[p_line['user_id']] = p_line['category']\n",
    "            else:\n",
    "                purchases[p_line['user_id']] += ',' + p_line['category']"
   ]
  },
  {
   "cell_type": "code",
   "execution_count": null,
   "metadata": {},
   "outputs": [],
   "source": [
    "visit_log_read = open('visit_log.csv', 'r', encoding='utf-8')\n",
    "visit_log_write = open('visit_log_3columns.csv', 'w')\n",
    "funnel = open('funnel.csv', 'w')\n",
    "i = 0\n",
    "for line in visit_log_read:\n",
    "    line = line.strip('\\n')\n",
    "    user_id = line.split(',')[0]\n",
    "    category_name = purchases.get(user_id)\n",
    "    if i == 0:\n",
    "        line += ',category\\n'\n",
    "        visit_log_write.write(line)\n",
    "        funnel.write(line)\n",
    "        i += 1\n",
    "    else:\n",
    "        line += ',' + str(category_name)+'\\n'\n",
    "        visit_log_write.write(line)\n",
    "        if category_name != None:\n",
    "            funnel.write(line)\n",
    "        \n",
    "\n",
    "visit_log_read.close()\n",
    "visit_log_write.close()\n",
    "funnel.close()"
   ]
  },
  {
   "cell_type": "code",
   "execution_count": null,
   "metadata": {},
   "outputs": [],
   "source": []
  },
  {
   "cell_type": "code",
   "execution_count": null,
   "metadata": {},
   "outputs": [],
   "source": [
    "import json\n",
    "keys = []\n",
    "values = []\n",
    "with open('purchase_log.txt') as f:\n",
    "    next(f)\n",
    "    i = 0\n",
    "    for line in f:\n",
    "        dict_line = json.loads(line.strip())\n",
    "        keys.append(dict_line['user_id'])\n",
    "        values.append(dict_line['category'])\n",
    "        i +=1\n",
    "        if i > 20:\n",
    "            break\n",
    "    new_dict = dict(zip(keys, values))\n",
    "    print(new_dict)"
   ]
  },
  {
   "cell_type": "code",
   "execution_count": null,
   "metadata": {},
   "outputs": [],
   "source": [
    "with open('visit_log.csv', 'r') as v:\n",
    "    with open('funnel.csv', 'w') as fun:\n",
    "        next(v)\n",
    "        i = 0\n",
    "        for line in v:\n",
    "            line = v.readline().strip().split(',')\n",
    "        \n",
    "            key = new_dict.get(line[0])\n",
    "          \n",
    "            if key:\n",
    "                new_line = ','.join(line) +',' + key +'\\n'\n",
    "                fun.write(new_line)\n",
    "        \n",
    "with open('funnel.csv', 'r') as fun:\n",
    "    for line in fun:\n",
    "        print(fun.readline().strip())"
   ]
  },
  {
   "cell_type": "code",
   "execution_count": null,
   "metadata": {},
   "outputs": [],
   "source": [
    "import json\n",
    "f = open('purchase_log.txt', 'r')\n",
    "purchases = {json.loads(purchase.strip()).get(\"user_id\"): json.loads(purchase.strip()).get(\"category\") for purchase in f.readlines()}"
   ]
  },
  {
   "cell_type": "code",
   "execution_count": null,
   "metadata": {},
   "outputs": [],
   "source": [
    "with open('visit_log.csv', 'r', encoding='utf-8') as f, open('visit_and_category_purchase.csv', 'w') as result:\n",
    "    result.write(f\"{f.readline().strip()},category\\n\")\n",
    "    for line in f.readlines():\n",
    "        visit = line.strip().split(',')\n",
    "        if purchases.get(visit[0]) != None:\n",
    "            visit.append(purchases.get(visit[0]))\n",
    "        else:\n",
    "            visit.append('')\n",
    "        result.write(f\"{','.join(visit)}\\n\")"
   ]
  },
  {
   "cell_type": "code",
   "execution_count": null,
   "metadata": {},
   "outputs": [],
   "source": [
    "with open ('visit_and_category_purchase.csv', 'r', encoding='utf-8') as f, open ('funnel.csv', 'w') as result:\n",
    "    result.write(f.readline())\n",
    "    for line in f.readlines():\n",
    "        if line.strip().split(',')[2] != '':\n",
    "            result.write(line)"
   ]
  },
  {
   "cell_type": "markdown",
   "metadata": {},
   "source": [
    "### Домашнее задание № 6"
   ]
  },
  {
   "cell_type": "markdown",
   "metadata": {},
   "source": [
    "**Задача 1.** Напишите функцию, которая принимает на вход строку и проверяет является ли она валидным транспортным номером. Если да, то функция должна возвращать отдельно номер и регион."
   ]
  },
  {
   "cell_type": "code",
   "execution_count": 9,
   "metadata": {},
   "outputs": [
    {
     "name": "stdout",
     "output_type": "stream",
     "text": [
      "Номер не валиден\n"
     ]
    }
   ],
   "source": [
    "import re\n",
    "\n",
    "def check_car_number(full_number):\n",
    "    full_number = re.findall('(^[АВЕКМНОРСТУХ]{1}[0-9]{3}[АВЕКМНОРСТУХ]{2})([0-9]{2,3}$)',full_number)\n",
    "    if full_number:\n",
    "        return full_number[0]\n",
    "\n",
    "number = check_car_number('А777АА144')\n",
    "if number:\n",
    "    print(f'Номер: {number[0]} регион:{number[1]}')\n",
    "else:\n",
    "    print('Номер не валиден')"
   ]
  },
  {
   "cell_type": "markdown",
   "metadata": {},
   "source": [
    "**Задача 3.** Напишите функцию, которая будет удалять все последовательные повторы слов из заданной строки."
   ]
  },
  {
   "cell_type": "code",
   "execution_count": 1,
   "metadata": {},
   "outputs": [],
   "source": [
    "import re\n",
    "def delete_duplication(text):\n",
    "    return re.sub(r'\\b(\\w+)( \\1\\b)+', r'\\1', text, flags=re.I)"
   ]
  },
  {
   "cell_type": "code",
   "execution_count": 7,
   "metadata": {},
   "outputs": [],
   "source": [
    "def delete_duplication(text):\n",
    "    return re.sub(r'\\b([^\\W\\d_]+)(\\s+\\1)+\\b', r'\\1', text, flags=re.I)"
   ]
  },
  {
   "cell_type": "code",
   "execution_count": 8,
   "metadata": {},
   "outputs": [
    {
     "data": {
      "text/plain": [
       "\"We're going to be working with the python, python crash course notebook.\""
      ]
     },
     "execution_count": 8,
     "metadata": {},
     "output_type": "execute_result"
    }
   ],
   "source": [
    "phrase1 = \"We're going to be working with the python    python, python crash course notebook.\"\n",
    "delete_duplication(phrase1)"
   ]
  },
  {
   "cell_type": "code",
   "execution_count": 3,
   "metadata": {},
   "outputs": [
    {
     "data": {
      "text/plain": [
       "'Довольно распространённая ошибка — это лишний повтор слова. Смешно, не правда ли? Не нужно портить хор хоровод.'"
      ]
     },
     "execution_count": 3,
     "metadata": {},
     "output_type": "execute_result"
    }
   ],
   "source": [
    "phrase2 = 'Довольно распространённая ошибка ошибка — это лишний повтор повтор слова слова. Смешно, не не правда ли? Не нужно портить хор хоровод.'\n",
    "delete_duplication(phrase2)"
   ]
  },
  {
   "cell_type": "markdown",
   "metadata": {},
   "source": [
    "**Задача 4.** Напишите функцию, которая будет проверять номер сотового телефона на валидность, если он валиден, то переводить его в формат:\n",
    "+7(xxx)-xxx-xx-xx  \n",
    "Постарайтесь предусмотреть как можно больше адекватных форматов изначального ввода номера."
   ]
  },
  {
   "cell_type": "code",
   "execution_count": null,
   "metadata": {},
   "outputs": [],
   "source": [
    "def check_phone_number(number):\n",
    "    #очистка от спец.символов\n",
    "    number = re.sub(r'\\D+','',number)\n",
    "    if len(number) == 10:\n",
    "        return re.sub(r'(\\d{3})(\\d{3})(\\d{2})(\\d{2})',r'+7(\\1)-\\2-\\3-\\4',number)\n",
    "    elif len(number) == 11 and number[0] in ['7','8']:\n",
    "        return re.sub(r'\\d(\\d{3})(\\d{3})(\\d{2})(\\d{2})',r'+7(\\1)-\\2-\\3-\\4',number)\n",
    "    else:\n",
    "        return False\n",
    "\n",
    "my_phones = ['+7 955 555-55-55','9558888888','955555555','8(955)555-55-55','+7 955 555 55 55','7(9545) 555-55-55','+6 955+555+55+55','+8 955+555+55+55']\n",
    "for phone in my_phones:\n",
    "    res = check_phone_number(phone)\n",
    "    if res:\n",
    "        print(f'Номер {phone} приведен к виду {res}')\n",
    "    else: \n",
    "        print(f'Номер {phone} некорректный')"
   ]
  },
  {
   "cell_type": "code",
   "execution_count": null,
   "metadata": {},
   "outputs": [],
   "source": [
    "def nums_check(nums):\n",
    "\n",
    "    pattern = re.compile(r'^([78]|\\+7|'')\\s*\\(?\\-?s*(\\d{3})\\s*\\)?\\-?\\s*(\\d{3})\\s*\\-?\\s*(\\d{2})\\s*\\-?\\s*(\\d{2})$')\n",
    "\n",
    "    print('\\tСтатусы номеров\\n')\n",
    "    for num in nums:\n",
    "        if pattern.findall(num):\n",
    "            print('Валидный:', num, ' ;новый формат:', pattern.sub(r'+7(\\2)-\\3-\\4-\\5',num))\n",
    "        else:\n",
    "            print('Не валидный:', num)"
   ]
  },
  {
   "cell_type": "code",
   "execution_count": 13,
   "metadata": {},
   "outputs": [],
   "source": [
    "def check_phone_number(phone_number):\n",
    "    if re.findall(r'(\\+7|8|7)?[\\W_]*(\\d{3})[\\W_]*(\\d{3})[\\W_]*(\\d{2})[\\W_]*(\\d{2})', phone_number):\n",
    "        pattern = re.sub(r'(\\+7|8|7)?[\\W_]*(\\d{3})[\\W_]*(\\d{3})[\\W_]*(\\d{2})[\\W_]*(\\d{2})', r'+7(\\2)-\\3-\\4-\\5', phone_number)\n",
    "        return pattern"
   ]
  },
  {
   "cell_type": "code",
   "execution_count": 14,
   "metadata": {},
   "outputs": [
    {
     "name": "stdout",
     "output_type": "stream",
     "text": [
      "+7(955)-555-55-55\n",
      "+7(955)-555-55-55\n",
      "+7(955)-555-55-55\n",
      "+7(955)-555-55-55\n",
      "+7(955)-555-55-55\n",
      "Error. Try again!\n",
      "+7(955)-555-55-55\n"
     ]
    }
   ],
   "source": [
    "ph_numbers = ['+7 955 555-55-55', '9555555555', '8(955)555-55-55', '+7 955 555 55 55', '7(955) 555-55-55', '5565756','+7 955+555+55+55']\n",
    "for number in ph_numbers:\n",
    "    number  = check_phone_number(number)\n",
    "    if number:\n",
    "        print(number)\n",
    "    else:\n",
    "        print('Error. Try again!')"
   ]
  }
 ],
 "metadata": {
  "kernelspec": {
   "display_name": "Python 3.9.4 64-bit ('venv': venv)",
   "name": "python394jvsc74a57bd006041931441649ba6506ce01190651b25f20421dc061790fef2fd06cb7ec63cb"
  },
  "language_info": {
   "codemirror_mode": {
    "name": "ipython",
    "version": 3
   },
   "file_extension": ".py",
   "mimetype": "text/x-python",
   "name": "python",
   "nbconvert_exporter": "python",
   "pygments_lexer": "ipython3",
   "version": "3.9.4"
  }
 },
 "nbformat": 4,
 "nbformat_minor": 2
}
