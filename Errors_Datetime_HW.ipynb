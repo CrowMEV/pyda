{
 "cells": [
  {
   "cell_type": "markdown",
   "metadata": {},
   "source": [
    "Задание 1\n",
    "Напишите функцию date_range, которая возвращает список дней между датами start_date и end_date. Даты должны вводиться в формате YYYY-MM-DD."
   ]
  },
  {
   "cell_type": "code",
   "execution_count": 1,
   "metadata": {},
   "outputs": [],
   "source": [
    "from datetime import datetime, timedelta"
   ]
  },
  {
   "cell_type": "code",
   "execution_count": 16,
   "metadata": {},
   "outputs": [],
   "source": [
    "def date_convertor(date):\n",
    "    templates_list = [\n",
    "        '%Y-%m-%d',\n",
    "        '%A, %B %d, %Y',\n",
    "        '%A, %d.%m.%y',\n",
    "        '%A, %d %B %Y'\n",
    "    ]\n",
    "    for template in templates_list:\n",
    "        try:\n",
    "            date = datetime.strptime(date, template).date()\n",
    "            return date\n",
    "        except ValueError as err:\n",
    "            pass"
   ]
  },
  {
   "cell_type": "markdown",
   "metadata": {},
   "source": [
    "Задание 1\n",
    "\n",
    "Печатные газеты использовали свой формат дат для каждого выпуска.\n",
    "\n",
    "Для каждой газеты из списка напишите формат указанной даты для перевода в объект datetime:\n",
    "\n",
    "* The Moscow Times - Wednesday, October 2, 2002\n",
    "* The Guardian - Friday, 11.10.13\n",
    "* Daily News - Thursday, 18 August 1977\n"
   ]
  },
  {
   "cell_type": "code",
   "execution_count": 15,
   "metadata": {},
   "outputs": [
    {
     "name": "stdout",
     "output_type": "stream",
     "text": [
      "2002-10-02\n",
      "2013-10-11\n",
      "1977-08-18\n"
     ]
    }
   ],
   "source": [
    "mosc_times = 'Wednesday, October 2, 2002'\n",
    "guardian = 'Friday, 11.10.13'\n",
    "daily_news = 'Thursday, 18 August 1977'\n",
    "\n",
    "mt = datetime.strptime(mosc_times, '%A, %B %d, %Y').date()\n",
    "g = datetime.strptime(guardian, '%A, %d.%m.%y').date()\n",
    "dn = datetime.strptime(daily_news, '%A, %d %B %Y').date()\n",
    "\n",
    "print(mt)\n",
    "print(g)\n",
    "print(dn)"
   ]
  },
  {
   "cell_type": "code",
   "execution_count": 9,
   "metadata": {},
   "outputs": [
    {
     "name": "stdout",
     "output_type": "stream",
     "text": [
      "Московское время 2002-10-02\n",
      "Guardian 2013-10-11\n",
      "Daily News 1977-08-18\n"
     ]
    }
   ],
   "source": [
    "mosc_times = 'Wednesday, October 2, 2002'\n",
    "guardian = 'Friday, 11.10.13'\n",
    "daily_news = 'Thursday, 18 August 1977'\n",
    "print(f'Московское время {date_convertor(mosc_times)}')\n",
    "print(f'Guardian {date_convertor(guardian)}')\n",
    "print(f'Daily News {date_convertor(daily_news)}')"
   ]
  },
  {
   "cell_type": "markdown",
   "metadata": {},
   "source": [
    "## Задание 2\n",
    "Напишите функцию date_range, которая возвращает список дат за период от start_date до end_date. Даты должны вводиться в формате YYYY-MM-DD. В случае неверного формата или при start_date > end_date должен возвращаться пустой список."
   ]
  },
  {
   "cell_type": "code",
   "execution_count": 21,
   "metadata": {},
   "outputs": [],
   "source": [
    "def get_date_range(start_date, end_date):\n",
    "    start_date = date_convertor(start_date) \n",
    "    end_date = date_convertor(end_date)\n",
    "    the_days = []\n",
    "    \n",
    "    if start_date and end_date:\n",
    "        while start_date<= end_date:\n",
    "            the_days.append(start_date.strftime('%Y-%m-%d'))\n",
    "            start_date += timedelta(days = 1) \n",
    "        return the_days\n",
    "    return the_days\n"
   ]
  },
  {
   "cell_type": "code",
   "execution_count": 24,
   "metadata": {},
   "outputs": [
    {
     "data": {
      "text/plain": [
       "['2020-06-14',\n",
       " '2020-06-15',\n",
       " '2020-06-16',\n",
       " '2020-06-17',\n",
       " '2020-06-18',\n",
       " '2020-06-19',\n",
       " '2020-06-20']"
      ]
     },
     "execution_count": 24,
     "metadata": {},
     "output_type": "execute_result"
    }
   ],
   "source": [
    "    get_date_range('2020-06-14', '2020-06-20')"
   ]
  },
  {
   "cell_type": "markdown",
   "metadata": {},
   "source": [
    "## Задание 3\n",
    "Дан поток дат в формате YYYY-MM-DD, в которых встречаются некорректные значения:\n",
    "stream = [‘2018-04-02’, ‘2018-02-29’, ‘2018-19-02’]\n",
    "\n",
    "Напишите функцию, которая проверяет эти даты на корректность. Т. е. для каждой даты возвращает True (дата корректна) или False (некорректная дата)."
   ]
  },
  {
   "cell_type": "code",
   "execution_count": 10,
   "metadata": {},
   "outputs": [
    {
     "name": "stdout",
     "output_type": "stream",
     "text": [
      "2018-04-02\n",
      "Не верный формат дат\n",
      "Не верный формат дат\n"
     ]
    }
   ],
   "source": [
    "stream = ['2018-04-02', '2018-02-29', '2018-19-02']\n",
    "for data in stream: \n",
    "    correct_date = date_convertor(data)\n",
    "    if correct_date:\n",
    "        print(correct_date)\n",
    "    else:\n",
    "        print('Не верный формат дат')"
   ]
  },
  {
   "cell_type": "markdown",
   "metadata": {},
   "source": [
    "Задание 4 (бонусное)\n",
    "Ваш коллега прислал код функции:\n",
    "\n",
    "DEFAULT_USER_COUNT = 3\n",
    "\n",
    "def delete_and_return_last_user(region, default_list=[‘A100’, ‘A101’, ‘A102’]):\n",
    "\"\"“\n",
    "Удаляет из списка default_list последнего пользователя\n",
    "и возвращает ID нового последнего пользователя.\n",
    "”\"\"\n",
    "element_to_delete = default_list[-1]\n",
    "default_list.remove(element_to_delete)\n",
    "\n",
    "return default_list[DEFAULT_USER_COUNT-2]\n",
    "При однократном вызове этой функции все работает корректно:\n",
    "delete_and_return_last_user(1)\n",
    "‘A101’\n",
    "\n",
    "Однако, при повторном вызове получается ошибка IndexError: list index out of range.\n",
    "\n",
    "Задание:\n",
    "\n",
    "Что значит ошибка list index out of range?\n",
    "Почему при первом запуске функция работает корректно, а при втором - нет?"
   ]
  },
  {
   "cell_type": "code",
   "execution_count": 41,
   "metadata": {},
   "outputs": [],
   "source": [
    "DEFAULT_USER_COUNT = 3\n",
    "\n",
    "def delete_and_return_last_user(region, default_list=['A100', 'A101', 'A102']):\n",
    "    \"\"\"\n",
    "    Удаляет из списка default_list последнего пользователя\n",
    "    и возвращает ID нового последнего пользователя.\n",
    "    \"\"\"\n",
    "    element_to_delete = default_list[-1]\n",
    "    default_list.remove(element_to_delete)\n",
    "\n",
    "    return default_list[DEFAULT_USER_COUNT-2]\n"
   ]
  },
  {
   "cell_type": "code",
   "execution_count": 40,
   "metadata": {},
   "outputs": [
    {
     "ename": "IndexError",
     "evalue": "list index out of range",
     "output_type": "error",
     "traceback": [
      "\u001b[0;31m---------------------------------------------------------------------------\u001b[0m",
      "\u001b[0;31mIndexError\u001b[0m                                Traceback (most recent call last)",
      "\u001b[0;32m<ipython-input-40-bfb6c4f8c48e>\u001b[0m in \u001b[0;36m<module>\u001b[0;34m\u001b[0m\n\u001b[0;32m----> 1\u001b[0;31m \u001b[0mdelete_and_return_last_user\u001b[0m\u001b[0;34m(\u001b[0m\u001b[0;36m1\u001b[0m\u001b[0;34m)\u001b[0m\u001b[0;34m\u001b[0m\u001b[0;34m\u001b[0m\u001b[0m\n\u001b[0m",
      "\u001b[0;32m<ipython-input-39-3b5dfeb4f763>\u001b[0m in \u001b[0;36mdelete_and_return_last_user\u001b[0;34m(region, default_list)\u001b[0m\n\u001b[1;32m      9\u001b[0m     \u001b[0mdefault_list\u001b[0m\u001b[0;34m.\u001b[0m\u001b[0mremove\u001b[0m\u001b[0;34m(\u001b[0m\u001b[0melement_to_delete\u001b[0m\u001b[0;34m)\u001b[0m\u001b[0;34m\u001b[0m\u001b[0;34m\u001b[0m\u001b[0m\n\u001b[1;32m     10\u001b[0m \u001b[0;34m\u001b[0m\u001b[0m\n\u001b[0;32m---> 11\u001b[0;31m     \u001b[0;32mreturn\u001b[0m \u001b[0mdefault_list\u001b[0m\u001b[0;34m[\u001b[0m\u001b[0mDEFAULT_USER_COUNT\u001b[0m\u001b[0;34m-\u001b[0m\u001b[0;36m2\u001b[0m\u001b[0;34m]\u001b[0m\u001b[0;34m\u001b[0m\u001b[0;34m\u001b[0m\u001b[0m\n\u001b[0m",
      "\u001b[0;31mIndexError\u001b[0m: list index out of range"
     ]
    }
   ],
   "source": [
    "delete_and_return_last_user(1)"
   ]
  },
  {
   "cell_type": "markdown",
   "metadata": {},
   "source": [
    "Ответ: значит индекс, к которому мы обращаемся, находится вне зоны доступа :) мы не опознаны..\n",
    "так получается на мой взгляд, потому что мы отнимаем -2 из DEFAULT_USER_COUNT, в котором после первой итерации осталось: 1"
   ]
  }
 ],
 "metadata": {
  "kernelspec": {
   "display_name": "Python 3",
   "language": "python",
   "name": "python3"
  },
  "language_info": {
   "codemirror_mode": {
    "name": "ipython",
    "version": 3
   },
   "file_extension": ".py",
   "mimetype": "text/x-python",
   "name": "python",
   "nbconvert_exporter": "python",
   "pygments_lexer": "ipython3",
   "version": "3.10.3"
  }
 },
 "nbformat": 4,
 "nbformat_minor": 4
}
