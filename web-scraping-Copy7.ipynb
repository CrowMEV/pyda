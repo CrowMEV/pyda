{
 "cells": [
  {
   "cell_type": "markdown",
   "metadata": {},
   "source": [
    "# Библиотека requests"
   ]
  },
  {
   "cell_type": "code",
   "execution_count": null,
   "metadata": {},
   "outputs": [],
   "source": [
    "import requests"
   ]
  },
  {
   "cell_type": "code",
   "execution_count": null,
   "metadata": {},
   "outputs": [],
   "source": [
    "# браузер отрисовал бы страницу на основе данного текста\n",
    "res.text"
   ]
  },
  {
   "cell_type": "code",
   "execution_count": null,
   "metadata": {},
   "outputs": [],
   "source": [
    "# метод get\n",
    "res = requests.get('https://yandex.ru')\n",
    "\n",
    "# res\n",
    "res.status_code"
   ]
  },
  {
   "cell_type": "code",
   "execution_count": 4,
   "metadata": {},
   "outputs": [
    {
     "output_type": "execute_result",
     "data": {
      "text/plain": [
       "<RequestsCookieJar[Cookie(version=0, name='i', value='wUmjmqi+MgHYSnGLISmrlgLRYAK6ERxKP28/Wy7PKxo0rFe5tbK2yF0JLfzbt94WpX7bOFiOy9URBSA28ANlQ6HqQ4w=', port=None, port_specified=False, domain='.yandex.ru', domain_specified=True, domain_initial_dot=True, path='/', path_specified=True, secure=True, expires=1679680501, discard=False, comment=None, comment_url=None, rest={'HttpOnly': None}, rfc2109=False), Cookie(version=0, name='is_gdpr', value='0', port=None, port_specified=False, domain='.yandex.ru', domain_specified=True, domain_initial_dot=True, path='/', path_specified=True, secure=False, expires=1679680501, discard=False, comment=None, comment_url=None, rest={}, rfc2109=False), Cookie(version=0, name='is_gdpr_b', value='CM39VxD0JCgC', port=None, port_specified=False, domain='.yandex.ru', domain_specified=True, domain_initial_dot=True, path='/', path_specified=True, secure=False, expires=1679680501, discard=False, comment=None, comment_url=None, rest={}, rfc2109=False), Cookie(version=0, name='mda', value='0', port=None, port_specified=False, domain='.yandex.ru', domain_specified=True, domain_initial_dot=True, path='/', path_specified=True, secure=False, expires=1626976501, discard=False, comment=None, comment_url=None, rest={}, rfc2109=False), Cookie(version=0, name='yandex_gid', value='11170', port=None, port_specified=False, domain='.yandex.ru', domain_specified=True, domain_initial_dot=True, path='/', path_specified=True, secure=False, expires=1619200501, discard=False, comment=None, comment_url=None, rest={}, rfc2109=False), Cookie(version=0, name='yandexuid', value='6981738551616608501', port=None, port_specified=False, domain='.yandex.ru', domain_specified=True, domain_initial_dot=True, path='/', path_specified=True, secure=True, expires=1931968501, discard=False, comment=None, comment_url=None, rest={}, rfc2109=False), Cookie(version=0, name='yp', value='1619200502.ygu.1', port=None, port_specified=False, domain='.yandex.ru', domain_specified=True, domain_initial_dot=True, path='/', path_specified=True, secure=False, expires=1931968501, discard=False, comment=None, comment_url=None, rest={}, rfc2109=False)]>"
      ]
     },
     "metadata": {},
     "execution_count": 4
    }
   ],
   "source": [
    "# посмотрим куки\n",
    "res.cookies"
   ]
  },
  {
   "cell_type": "code",
   "execution_count": null,
   "metadata": {},
   "outputs": [],
   "source": [
    "# получаем плохой статус\n",
    "bad_request = requests.get('https://yandex.ru/secret')\n",
    "bad_request"
   ]
  },
  {
   "cell_type": "code",
   "execution_count": null,
   "metadata": {},
   "outputs": [],
   "source": [
    "bad_request.text"
   ]
  },
  {
   "cell_type": "code",
   "execution_count": 5,
   "metadata": {},
   "outputs": [
    {
     "output_type": "execute_result",
     "data": {
      "text/plain": [
       "'<!DOCTYPE HTML>\\n<html lang=\"ru\">\\n<head>\\n    <meta http-equiv=\"Content-Type\" content=\"text/html;charset=UTF-8\">\\n    <title>Яндекс</title>\\n    <link rel=\"shortcut icon\" href=\"\">\\n    <style type=\"text/css\">\\nbody, div, ul, table, tr, td, form, input {\\n    margin: 0;\\n    padding: 0\\n}\\n\\nbody {\\n    font: .8em Arial, sans-serif;\\n    color: #000;\\n    background: #fff;\\n}\\n\\na, :visited {\\n    color: #2557A9;\\n    text-decoration: none;\\n}\\n\\nh1 {\\n    font-size: 200%;\\n    font-weight: normal\\n}\\n.header_h1 {\\n    margin-top: 2.6em;\\n    margin-bottom: 0.75em;\\n}\\n\\np {\\n    font-size: 1.15em;\\n    line-height: 1.15;\\n    margin: 1.15em 0 1.05em\\n}\\n\\na:hover {\\n    color: #f00 !important;\\n}\\n\\n.b-logo {\\n    position:absolute;\\n    left: -116px;\\n    top: -4px;\\n    margin: 0;\\n    padding: 0;\\n    border: 0;\\n}\\n[lang=\"en\"] .b-logo,\\n[lang=\"tr\"] .b-logo {\\n    left: -128px;\\n    top: -13px;\\n}\\n\\n.wrap {\\n    position: absolute;\\n    max-width: 640px;\\n    width: 640px;\\n    min-height: 400px;\\n    top: 76px;\\n    left: 186px;\\n    padding-right: 16px;\\n    bottom: 20px;\\n}\\n#text {\\n    width: 100%;\\n    min-height:1.3em;\\n}\\n\\n* html #text {\\n    height: 22px\\n}\\n\\n.b-search__arrow {\\n    float: right;\\n    height: 0;\\n    line-height: 0;\\n    font-size: 0;\\n    border-top: 34px solid #fff;\\n    border-left: 17px solid #fc0;\\n    border-bottom: 34px solid #fff\\n}\\n\\n.b-search form {\\n    padding: 10px 0 0 8px\\n}\\n\\ninput:not([type=\"image\"]), textarea {\\n    -webkit-box-sizing: border-box\\n}\\n\\ninput[type=\"search\"] {\\n    -webkit-appearance: textfield;\\n    -webkit-rtl-ordering: logical;\\n    -webkit-user-select: text;\\n    background-color: white;\\n    border: 2px inset #ccc;\\n    cursor: auto;\\n    padding: 1px\\n}\\n\\ninput[type=\"search\"]::-webkit-search-decoration {\\n    display: none\\n}\\n\\ninput[type=\"submit\"] {\\n    -webkit-appearance: button\\n}\\n\\n.services {\\n    list-style: none;\\n    overflow: hidden;\\n}\\n\\n.services__item {\\n    font-size: 1.1em;\\n    float: left;\\n    min-width: 230px;\\n    margin: 6px 15px 7px 2px;\\n}\\n[lang=\"kk\"] .services__item {\\n    min-width: 255px;\\n}\\n[lang=\"tr\"] .services__item {\\n    min-width: 295px;\\n}\\n\\n.services__link {\\n    padding: 7px 0 6px 25px;\\n    background: no-repeat 0 50%\\n}\\n\\n.foot {\\n    position: absolute;\\n    bottom: 0;\\n    color: #999;\\n}\\n.foot__link {\\n    margin-right: 16px;\\n}\\n.foot__link:link,\\n.foot__link:visited {\\n    color: #999;\\n}\\n\\n/* новая стрелка */\\n.search2 {\\n    white-space: nowrap;\\n}\\n.search2-web {\\n    position: relative;\\n    display: block;\\n    width: 100%;\\n    height: 36px;\\n    margin-bottom: 50px;;\\n}\\n.search2-web table {\\n    border-collapse: collapse;\\n}\\n.search2-web table, .search2-web tr, .search2-web td {\\n    margin: 0;\\n    padding: 0;\\n}\\n.search2-web__input-cell {\\n    width: 100%;\\n    text-align: left;\\n}\\n.search2-web__input-wrapper {\\n    position: relative;\\n}\\n.input {\\n    position: relative;\\n    display: inline-block;\\n    width: 100%;\\n}\\n.input_size_m {\\n    font-size: 15px;\\n    line-height: 32px;\\n}\\n.input_theme_websearch {\\n    -webkit-box-sizing: border-box;\\n    -moz-box-sizing: border-box;\\n    box-sizing: border-box;\\n    padding: 2px 0 2px 2px;\\n    background-color: #FFDB4C;\\n    background-image: -webkit-gradient(linear,right top,left bottom,color-stop(0,#FFDB4C),to(#FC0));\\n    background-image: -webkit-linear-gradient(top right,#FFDB4C 0,#FC0 100%);\\n    background-image: linear-gradient(top right,#ffdb4c 0,#fc0 100%);\\n}\\n.input_theme_websearch.input {\\n    font-size: 16px;\\n}\\n.input__box {\\n    position: relative;\\n    display: block;\\n    -webkit-box-sizing: border-box;\\n    -moz-box-sizing: border-box;\\n    box-sizing: border-box;\\n    cursor: text;\\n    padding-right: 6px;\\n}\\n.input_size_m .input__box {\\n    /*padding-right: 30px;*/\\n}\\n.input_theme_websearch .input__box {\\n    line-height: 32px;\\n    background-color: #FFF;\\n}\\ninput {\\n    font: 13px Arial,Helvetica,sans-serif;\\n}\\n.input__control {\\n    position: relative;\\n    z-index: 3;\\n    width: 100%;\\n    margin: 0;\\n    font-size: 100%;\\n    color: #000;\\n    -webkit-tap-highlight-color: rgba(0,0,0,0);\\n    -webkit-appearance: none;\\n}\\n@media (min-width: 0) {\\n    .input__control {\\n        -webkit-box-sizing: border-box;\\n        -moz-box-sizing: border-box;\\n        box-sizing: border-box;\\n        padding: .4em 0;\\n        outline: 0;\\n        border: 0;\\n        background: 0 0;\\n    }\\n}\\n.input_size_m .input__control {\\n    padding-left: 10px;\\n    font-size: 16px;\\n    padding-top: 6px;\\n    padding-bottom: 4px;\\n}\\n.input_theme_websearch .input__control {\\n    font-family: arial,sans-serif;\\n    color: #000;\\n    border: 0 !important;\\n}\\n.input__samples {\\n    position: absolute;\\n    display: block;\\n    left: 0;\\n    margin-top: .7em;\\n    font-size: .9em;\\n    line-height: normal;\\n    white-space: normal;\\n}\\n.input__samples, .input__samples .b-link {\\n    cursor: pointer;\\n    color: #000;\\n}\\n.input__samples .b-link_pseudo_yes .b-link__inner {\\n    color: #669;\\n}\\n.button {\\n    position: relative;\\n    display: inline-block;\\n    margin: 0;\\n    padding: 0;\\n    -webkit-user-select: none;\\n    -moz-user-select: none;\\n    -ms-user-select: none;\\n    user-select: none;\\n    text-align: center;\\n    white-space: nowrap;\\n    outline: 0;\\n}\\n@media (min-width: 0) {\\n    .button {\\n        border: 0;\\n        background: 0 0;\\n    }\\n}\\n.button {\\n    cursor: pointer;\\n}\\n.button_theme_websearch {\\n    overflow: visible;\\n    font-family: arial,sans-serif;\\n    font-size: 16px;\\n    color: #000;\\n}\\n.arrow2 {\\n    position: relative;\\n    display: inline-block;\\n    white-space: nowrap;\\n}\\n.arrow2_size_l {\\n    margin-right: 9px;\\n    line-height: 34px;\\n    height: 36px;\\n}\\n.arrow2_theme_websearch-button {\\n    min-width: 79px;\\n    background-color: #FFDB4C;\\n    -webkit-transition: background .1s ease-out;\\n    transition: background .1s ease-out;\\n}\\n.arrow2_theme_websearch-button:active{\\n    background-color: #F2CF48;\\n}\\n.arrow2:before {\\n    position: absolute;\\n    top: 0;\\n    content: \\'\\';\\n    background-color: inherit;\\n    -webkit-transform: rotate(45deg)skew(18.435deg,18.435deg)scale(.53);\\n    -ms-transform: rotate(45deg)skew(18.435deg,18.435deg)scale(.53);\\n    transform: rotate(45deg)skew(18.435deg,18.435deg)scale(.53);\\n}\\n.arrow2_size_l:before {\\n    right: -18px;\\n    width: 36px;\\n    height: 36px;\\n}\\n.button__text {\\n    position: relative;\\n    pointer-events: none;\\n}\\n.button_theme_websearch .button__text {\\n    padding: 0 14px 0 19px;\\n}\\n</style>\\n<!--[if IE 8]>\\n<style type=\"text/css\">\\n.input_theme_websearch .input__control {\\n    padding-left: 0;\\n}\\n.button_theme_websearch {\\n    border-width: 0;\\n}\\n.button_theme_websearch:before {\\n    display: block;\\n    top: 0;\\n    right: -11px;\\n    border: 18px solid transparent;\\n    border-left-width: 11px;\\n    border-right-width: 0;\\n    border-left-color: #FFDB4C;\\n    background: transparent;\\n    height: 0;\\n    width: 0;\\n}\\n.button_theme_websearch:active:before {\\n    display: block;\\n    top: -1px;\\n    right: -10px;\\n    border-left-color: #F2CF48;\\n}\\n</style>\\n<![endif]-->\\n<script type=\"text/javascript\">document.documentElement.id = \"js\";\\nwindow.onload=function()\\n{\\n    text.value=\\'\\';\\n}\\n</script>\\n</head>\\n<body>\\n<div class=\"wrap\">\\n    <img class=\"b-logo\" src=\"//yastatic.net/yaru/1.7/logo.png\" alt=\"Яндекс\" />\\n    <form class=\"search2 search2-web\" action=\"//yandex.ru/yandsearch\" role=\"search\">\\n        <input type=\"hidden\" name=\"lr\" value=\"213\">\\n        <table class=\"suggest2-form__node\">\\n            <tbody>\\n            <tr>\\n                <td class=\"search2-web__input-cell\">\\n                    <div class=\"search2-web__input-wrapper\">\\n                <span class=\"input input_size_m input_theme_websearch\">\\n                    <span class=\"input__box\">\\n                        <input class=\"input__control\" id=\"text\" name=\"text\" autocomplete=\"off\" tabindex=\"2\" autocorrect=\"off\" autocapitalize=\"off\" spellcheck=\"false\" type=\"search\" autofocus>\\n                        <span class=\"input__samples\">Например, <a class=\"b-link b-link_pseudo_yes input__sample\" tabindex=\"-1\"><span class=\"b-link__inner\" onclick=\"searchSample()\">что такое ошибка <span id=\"err\">502</span></span></a>?</span>\\n                        <script>\\n                            var err_first_digit=Math.floor(Math.random() * 2) + 4;\\n                            var err_last_digit=Math.floor(Math.random() * 3) + 2;\\n                            if (err_first_digit==4 && err_last_digit==2) err_last_digit=8;\\n                            var err=err_first_digit+\\'0\\'+err_last_digit;\\n                            document.getElementById(\"err\").innerHTML=err;\\n                            var text=document.getElementById(\"text\");\\n                            text.focus();\\n                            function searchSample() {text.value=\"что такое ошибка  \" + err;\\n                                if (text.createTextRange)\\n                                {\\n                                    var r = text.createTextRange();\\n                                    r.collapse(false);\\n                                    r.select();\\n                                    r.collapse(false);\\n                                }\\n                                if (text.selectionStart)\\n                                {\\n                                    var end = text.value.length;\\n                                    text.setSelectionRange(end,end);\\n                                }\\n                                text.focus();\\n                            }\\n                        </script>\\n                    </span>\\n                </span>\\n                    </div>\\n                </td>\\n                <td class=\"search2-web__button-cell\">\\n                    <button class=\"button button_theme_websearch arrow2 arrow2_size_l arrow2_theme_websearch-button suggest2-form__button i-bem button_js_inited\" data-bem=\"{&quot;button&quot;:{}}\" role=\"button\" type=\"submit\" tabindex=\"-1\">\\n                        <span class=\"button__text\">Найти</span>\\n                    </button>\\n                </td>\\n            </tr>\\n            </tbody>\\n        </table>\\n    </form>\\n    <h1 class=\"header header_h1\">Произошла ошибка на сервере</h1>\\n    <p>Мы знаем о проблеме и работаем над её решением. Попробуйте <a href=\"\" onclick=\"location.reload(true);return false;\">обновить</a> страницу через некоторое время.</p>\\n    <p>Тем временем вы можете поискать что-нибудь в интернете или:</p>\\n    <ul class=\"services\"><li class=\"services__item\"><a class=\"services__link\" style=\"background-image:url(//yastatic.net/lego/_/HoBTSZ2ai6LW6GBiDxeYOcIcp3M.png)\" href=\"//mail.yandex.ru/\">Проверить почту</a></li><li class=\"services__item\"><a class=\"services__link\" style=\"background-image:url(//yastatic.net/lego/_/g0nVXiT78xqSV0Yef8za38q2eJU.png)\" href=\"//music.yandex.ru/\">Послушать музыку</a></li><li class=\"services__item\"><a class=\"services__link\" style=\"background-image:url(//yastatic.net/lego/_/Ym4fSGelWhwEPMzLltBlowYOyXk.png)\" href=\"//pogoda.yandex.ru/\">Узнать прогноз погоды</a></li><li class=\"services__item\"><a class=\"services__link\" style=\"background-image:url(//yastatic.net/lego/_/nxC5iN9kouuDFYuRqoeqd2ojRRo.png)\" href=\"//fotki.yandex.ru/\">Посмотреть фотки</a></li><li class=\"services__item\"><a class=\"services__link\" style=\"background-image:url(//yastatic.net/lego/_/mjhyREEiYd6IeT2Qw4sUlHcNdto.png)\" href=\"//maps.yandex.ru/\">Посмотреть карты и пробки</a></li><li class=\"services__item\"><a class=\"services__link\" style=\"background-image:url(//yastatic.net/lego/_/KCbnoGyFwrWd-nZnEdUyLZdhjBo.png)\" href=\"//afisha.yandex.ru\">Сходить в кино</a></li><li class=\"services__item\"><a class=\"services__link\" style=\"background-image:url(//yastatic.net/lego/_/Dvb9ceav9CjlIPhqpF8_WCrkvZg.png)\" href=\"http://market.yandex.ru/\">Купить что-нибудь</a></li><li class=\"services__item\"><a class=\"services__link\" style=\"background-image:url(//yastatic.net/lego/_/6XS6AN9n2NeWoVgSOrIy6R0Yvk4.png)\" href=\"//rabota.yandex.ru\">Найти новую работу</a></li></ul>\\n    <div class=\"foot\">\\n        &nbsp;<a class=\"foot__link\" href=\"//company.yandex.ru/\">Компания</a>&nbsp;<a class=\"foot__link\" href=\"//company.yandex.com/\">About</a>&copy;&nbsp;<a class=\"foot__link\" href=\"//www.yandex.ru/\">Яндекс</a>\\n    </div>\\n</div>\\n</body>\\n</html>'"
      ]
     },
     "metadata": {},
     "execution_count": 5
    }
   ],
   "source": [
    "# попроуем сделать post запрос\n",
    "post_req = requests.post('https://yandex.ru')\n",
    "post_req.text"
   ]
  },
  {
   "cell_type": "code",
   "execution_count": null,
   "metadata": {},
   "outputs": [],
   "source": [
    "# cформируем поисковый запрос, обратите внимание на его формат\n",
    "URL = 'https://yandex.ru/search/?text=python'"
   ]
  },
  {
   "cell_type": "code",
   "execution_count": null,
   "metadata": {},
   "outputs": [],
   "source": [
    "req = requests.get(URL)\n",
    "req"
   ]
  },
  {
   "cell_type": "code",
   "execution_count": null,
   "metadata": {},
   "outputs": [],
   "source": [
    "req.text"
   ]
  },
  {
   "cell_type": "code",
   "execution_count": null,
   "metadata": {},
   "outputs": [],
   "source": [
    "# в request можно передать параметры запроса (для get), данные (для post) и заголовки (headers) в виде словарей. \n",
    "# сегодня не будем рассматривать примеры с необходимостью передачи заголовка, \n",
    "# но в практике вам это точно понадобится\n",
    "URL = 'https://yandex.ru/search/'\n",
    "params = {\n",
    "    'text': 'python',\n",
    "    'lr': 54\n",
    "}\n",
    "headers = {\n",
    "    'user-agent': 'Mozilla/5.0 (Linux; Android 6.0; Nexus 5 Build/MRA58N) AppleWebKit/537.36 (KHTML, like Gecko) Chrome/88.0.4324.152 Mobile Safari/537.36'\n",
    "}\n",
    "# req = requests.get(URL, params=params, headers=headers)\n",
    "# req = requests.post(URL, json=, headers)\n",
    "# req = requests.post(URL, data= , headers=headers)\n",
    "\n",
    "req.text"
   ]
  },
  {
   "cell_type": "code",
   "execution_count": null,
   "metadata": {},
   "outputs": [],
   "source": []
  },
  {
   "cell_type": "code",
   "execution_count": null,
   "metadata": {},
   "outputs": [],
   "source": [
    "# очень часто сайты могут ограничивать частые запросы к себе, \n",
    "# поэтому нужно задерживать исполнение\n",
    "import time\n",
    "time.sleep(0.2)"
   ]
  },
  {
   "cell_type": "markdown",
   "metadata": {},
   "source": [
    "# Beautiful Soup"
   ]
  },
  {
   "cell_type": "code",
   "execution_count": null,
   "metadata": {},
   "outputs": [],
   "source": [
    "# как разбирать всю эту разметку? Поможет BeautifulSoup.\n",
    "from bs4 import BeautifulSoup"
   ]
  },
  {
   "cell_type": "markdown",
   "metadata": {},
   "source": [
    "## Практика 1. Напишем скрипт, который будет отбирать посты из нужных хабов на habr.com"
   ]
  },
  {
   "cell_type": "code",
   "execution_count": null,
   "metadata": {},
   "outputs": [],
   "source": [
    "# определяем список хабов, которые нам интересны\n",
    "DESIRED_HUBS = ['python', 'bigdata', 'java']"
   ]
  },
  {
   "cell_type": "code",
   "execution_count": null,
   "metadata": {},
   "outputs": [],
   "source": [
    "# получаем страницу с самыми свежими постами\n",
    "req = requests.get('https://habr.com/ru/all/')\n",
    "soup = BeautifulSoup(req.text, 'html.parser')"
   ]
  },
  {
   "cell_type": "code",
   "execution_count": null,
   "metadata": {},
   "outputs": [],
   "source": [
    "# извлекаем посты\n",
    "posts = soup.find_all('article', class_='post')\n",
    "posts"
   ]
  },
  {
   "cell_type": "code",
   "execution_count": null,
   "metadata": {},
   "outputs": [],
   "source": [
    "for post in posts:\n",
    "    post_id = post.parent.attrs.get('id')\n",
    "   # если идентификатор не найден, это что-то странное, пропускаем\n",
    "    if not post_id:\n",
    "        continue\n",
    "    post_id = int(post_id.split('_')[-1])\n",
    "    print('post', post_id)\n",
    "    hubs = post.find_all('a', class_='hub-link')"
   ]
  },
  {
   "cell_type": "code",
   "execution_count": null,
   "metadata": {},
   "outputs": [],
   "source": [
    "# добавляем извлечение хабов из постов, чтобы отбирать только нужные\n",
    "for post in posts:\n",
    "    post_id = post.parent.attrs.get('id')\n",
    "   # если идентификатор не найден, это что-то странное, пропускаем\n",
    "    if not post_id:\n",
    "        continue\n",
    "    post_id = int(post_id.split('_')[-1])\n",
    "    hubs = post.find_all('a', class_='hub-link')\n",
    "    for hub in hubs:\n",
    "            hub_lower = hub.text.lower()\n",
    "           # ищем вхождение хотя бы одного желаемого хаба\n",
    "            if any([hub_lower in desired for desired in DESIRED_HUBS]):\n",
    "               # пост нам интересен - делаем с ним все что захотим:\n",
    "               # можно отправит в телеграм уведомление, можно на почту и т.п.\n",
    "                title_element = post.find('a', class_='post__title_link')\n",
    "                print(title_element.text, title_element.attrs.get('href'))\n",
    "               # так как пост уже нам подошел - дальше нет смысла проверять хабы\n",
    "                break"
   ]
  },
  {
   "cell_type": "markdown",
   "metadata": {},
   "source": [
    "## Практика 2. Напишем скрипт, который будет собирать новости с сайта Коммерсанта"
   ]
  },
  {
   "cell_type": "code",
   "execution_count": null,
   "metadata": {},
   "outputs": [],
   "source": [
    "URL = 'https://www.kommersant.ru/search/results'\n",
    "params = {\n",
    "    'search_query': 'python'\n",
    "}"
   ]
  },
  {
   "cell_type": "code",
   "execution_count": null,
   "metadata": {},
   "outputs": [],
   "source": [
    "res = requests.get(URL, params)\n",
    "res"
   ]
  },
  {
   "cell_type": "code",
   "execution_count": null,
   "metadata": {},
   "outputs": [],
   "source": [
    "res.text"
   ]
  },
  {
   "cell_type": "code",
   "execution_count": null,
   "metadata": {},
   "outputs": [],
   "source": [
    "soup = BeautifulSoup(res.text)\n",
    "soup"
   ]
  },
  {
   "cell_type": "code",
   "execution_count": null,
   "metadata": {},
   "outputs": [],
   "source": [
    "# добираемся до блоков с новостями\n",
    "news_blocks = soup.find_all('div', class_='search_results_item')\n",
    "news_blocks"
   ]
  },
  {
   "cell_type": "code",
   "execution_count": null,
   "metadata": {},
   "outputs": [],
   "source": [
    "# добираемся до текста со ссылкой\n",
    "articles_intro = list(map(lambda x: x.find('div', class_='article_intro'), news_blocks))\n",
    "articles_intro"
   ]
  },
  {
   "cell_type": "code",
   "execution_count": null,
   "metadata": {},
   "outputs": [],
   "source": [
    "# добираемся до ссылок\n",
    "a_list = list(map(lambda x: x.find('a').get('href'), articles_intro))\n",
    "a_list"
   ]
  },
  {
   "cell_type": "code",
   "execution_count": null,
   "metadata": {},
   "outputs": [],
   "source": [
    "# формируем полноценные ссылки\n",
    "all_refs = list(map(lambda x: 'https://www.kommersant.ru/' + x, a_list))\n",
    "all_refs"
   ]
  },
  {
   "cell_type": "code",
   "execution_count": null,
   "metadata": {},
   "outputs": [],
   "source": [
    "# объединим все в одну функцию\n",
    "def get_all_links(url, query):\n",
    "    all_refs = []\n",
    "    params = {\n",
    "        'search_query': query,\n",
    "    }\n",
    "    res = requests.get(URL, params)\n",
    "    time.sleep(0.3)\n",
    "    soup = BeautifulSoup(res.text, 'html.parser')\n",
    "    news_blocks = soup.find_all('div', class_='search_results_item')\n",
    "    articles_intro = list(map(lambda x: x.find('div', class_='article_intro'), news_blocks))\n",
    "    a_list = list(map(lambda x: x.find('a').get('href'), articles_intro))\n",
    "    all_refs = list(map(lambda x: 'https://www.kommersant.ru/' + x, a_list))\n",
    "\n",
    "    return all_refs\n",
    "\n",
    "all_links = get_all_links(URL, 'python')\n",
    "all_links"
   ]
  },
  {
   "cell_type": "code",
   "execution_count": null,
   "metadata": {},
   "outputs": [],
   "source": [
    "# но мы же собрали только одну страницу? Хотим ВСЕ новости\n",
    "def get_all_links(url, query, pages):\n",
    "    all_refs = []\n",
    "    params = {\n",
    "        'search_query': query\n",
    "    }\n",
    "    for i in range(1, pages):\n",
    "        params['page'] = i\n",
    "        res = requests.get(URL, params)\n",
    "        time.sleep(0.3)\n",
    "        soup = BeautifulSoup(res.text, 'html.parser')\n",
    "        news_blocks = soup.find_all('div', class_='search_results_item')\n",
    "        articles_intro = list(map(lambda x: x.find('div', class_='article_intro'), news_blocks))\n",
    "        a_list = list(map(lambda x: x.find('a').get('href'), articles_intro))\n",
    "        all_refs += list(map(lambda x: 'https://www.kommersant.ru/' + x, a_list))\n",
    "    return all_refs\n",
    "\n",
    "all_links = get_all_links(URL, 'python', 5)\n",
    "all_links"
   ]
  },
  {
   "cell_type": "code",
   "execution_count": null,
   "metadata": {},
   "outputs": [],
   "source": [
    "import pandas as pd"
   ]
  },
  {
   "cell_type": "code",
   "execution_count": null,
   "metadata": {},
   "outputs": [],
   "source": [
    "# собираем даты, заголовки и тексты новостей\n",
    "# получаем ошибочку. Значит не у всех получаемых страниц одинаковая разметка\n",
    "for link in all_links:\n",
    "    soup = BeautifulSoup(requests.get(link).text)\n",
    "    time.sleep(0.3)\n",
    "    date = pd.to_datetime(soup.find('time', class_='title__cake').get('datetime'), dayfirst=True).date()\n",
    "    print(date)\n",
    "    title = soup.find('h1', class_='article_name').text\n",
    "    print(title)\n",
    "    text = soup.find('div', class_='article_text_wrapper').text\n",
    "    print(text)"
   ]
  },
  {
   "cell_type": "code",
   "execution_count": null,
   "metadata": {},
   "outputs": [],
   "source": [
    "# получаем ошибочку. Значит не у всех получаемых страниц одинаковая разметка\n",
    "for link in all_links:\n",
    "    soup = BeautifulSoup(requests.get(link).text, 'html.parser')\n",
    "    if soup.find('div', class_='b-article__publish_date'):\n",
    "        date = pd.to_datetime(soup.find('div', class_='b-article__publish_date').find('time').get('datetime'), dayfirst=True).date()\n",
    "    elif soup.find('time', class_='title__cake'):\n",
    "        date = pd.to_datetime(soup.find('time', class_='title__cake').get('datetime'), dayfirst=True).date()\n",
    "    print(date)\n",
    "    if soup.find('h2', class_='article_name'): \n",
    "        title = soup.find('h2', class_='article_name').text\n",
    "    else: \n",
    "        title = soup.find('h1', class_='article_name').text    \n",
    "    print(title)\n",
    "    text = soup.find('div', class_='article_text_wrapper').text\n",
    "    print(text)"
   ]
  },
  {
   "cell_type": "code",
   "execution_count": null,
   "metadata": {},
   "outputs": [],
   "source": [
    "# запишем данные в датафрейм\n",
    "kom_news = pd.DataFrame()\n",
    "for link in all_links:\n",
    "    soup = BeautifulSoup(requests.get(link).text, 'html.parser')\n",
    "    time.sleep(0.3)\n",
    "    if soup.find('div', class_='b-article__publish_date'):\n",
    "        date = pd.to_datetime(soup.find('div', class_='b-article__publish_date').find('time').get('datetime'), dayfirst=True).date()\n",
    "    elif soup.find('time', class_='title__cake'):\n",
    "        date = pd.to_datetime(soup.find('time', class_='title__cake').get('datetime'), dayfirst=True).date()\n",
    "    if soup.find('h2', class_='article_name'): \n",
    "        title = soup.find('h2', class_='article_name').text\n",
    "    else: \n",
    "        title = soup.find('h1', class_='article_name').text    \n",
    "    text = soup.find('div', class_='article_text_wrapper').text\n",
    "    row = {'date': date, 'title': title, 'text': text}\n",
    "    kom_news = pd.concat([kom_news, pd.DataFrame([row])])  \n",
    "kom_news.reset_index()"
   ]
  },
  {
   "cell_type": "code",
   "execution_count": null,
   "metadata": {},
   "outputs": [],
   "source": [
    "# обернем в функцию \n",
    "def get_kom_news(links):\n",
    "    kom_news = pd.DataFrame()\n",
    "    for link in all_links:\n",
    "        soup = BeautifulSoup(requests.get(link).text, 'html.parser')\n",
    "        time.sleep(0.2)\n",
    "        if soup.find('div', class_='b-article__publish_date'):\n",
    "            date = pd.to_datetime(soup.find('div', class_='b-article__publish_date').find('time').get('datetime'), dayfirst=True).date()\n",
    "        elif soup.find('time', class_='title__cake'):\n",
    "            date = pd.to_datetime(soup.find('time', class_='title__cake').get('datetime'), dayfirst=True).date()\n",
    "        if soup.find('h2', class_='article_name'): \n",
    "            title = soup.find('h2', class_='article_name').text\n",
    "        else: \n",
    "            title = soup.find('h1', class_='article_name').text    \n",
    "        text = soup.find('div', class_='article_text_wrapper').text\n",
    "        row = {'date': date, 'title': title, 'text': text}\n",
    "        kom_news = pd.concat([kom_news, pd.DataFrame([row])])  \n",
    "    return kom_news"
   ]
  },
  {
   "cell_type": "code",
   "execution_count": null,
   "metadata": {},
   "outputs": [],
   "source": [
    "kom_news = get_kom_news(all_links)\n",
    "kom_news"
   ]
  },
  {
   "cell_type": "markdown",
   "metadata": {},
   "source": [
    "# API"
   ]
  },
  {
   "cell_type": "markdown",
   "metadata": {},
   "source": [
    "## Практика 3. Получим данные о песнях исполнителя при помощи  [API ITunes](https://developer.apple.com/library/archive/documentation/AudioVideo/Conceptual/iTuneSearchAPI/index.html)"
   ]
  },
  {
   "cell_type": "code",
   "execution_count": null,
   "metadata": {},
   "outputs": [],
   "source": [
    "# https://developer.apple.com/library/archive/documentation/AudioVideo/Conceptual/iTuneSearchAPI/UnderstandingSearchResults.html#//apple_ref/doc/uid/TP40017632-CH8-SW1\n",
    "URL = 'https://itunes.apple.com/search?term=jack+johnson'"
   ]
  },
  {
   "cell_type": "code",
   "execution_count": null,
   "metadata": {},
   "outputs": [],
   "source": [
    "res = requests.get(URL)"
   ]
  },
  {
   "cell_type": "code",
   "execution_count": null,
   "metadata": {},
   "outputs": [],
   "source": [
    "res.text"
   ]
  },
  {
   "cell_type": "code",
   "execution_count": null,
   "metadata": {},
   "outputs": [],
   "source": [
    "res.json()"
   ]
  },
  {
   "cell_type": "code",
   "execution_count": null,
   "metadata": {},
   "outputs": [],
   "source": [
    "params = {\n",
    "    'term': 'шнуров',\n",
    "    'limit': 200,\n",
    "#     'offset': 2\n",
    "}"
   ]
  },
  {
   "cell_type": "code",
   "execution_count": null,
   "metadata": {},
   "outputs": [],
   "source": [
    "# pd.set_option('display.max_columns', 100)\n",
    "res = requests.get(URL, params)\n",
    "# res.json()\n",
    "\n",
    "pd.DataFrame(res.json()['results'])"
   ]
  },
  {
   "cell_type": "code",
   "execution_count": null,
   "metadata": {},
   "outputs": [],
   "source": [
    "params = {\n",
    "    'term': 'лазарев',\n",
    "    'limit': 60,\n",
    "    'attribute': 'allArtistTerm',\n",
    "    'country': 'ru'\n",
    "}"
   ]
  },
  {
   "cell_type": "code",
   "execution_count": null,
   "metadata": {},
   "outputs": [],
   "source": [
    "res = requests.get(URL, params)\n",
    "res.json()\n",
    "\n",
    "pd.DataFrame(res.json()['results'])"
   ]
  },
  {
   "cell_type": "markdown",
   "metadata": {},
   "source": [
    "## Практика 4. Соберем сообщения из новостной ленты ВК по нужному запросу"
   ]
  },
  {
   "cell_type": "code",
   "execution_count": null,
   "metadata": {},
   "outputs": [],
   "source": [
    "# читаем токен\n",
    "with open('token.txt', 'r') as file_object:\n",
    "    TOKEN = file_object.read().strip()"
   ]
  },
  {
   "cell_type": "code",
   "execution_count": null,
   "metadata": {},
   "outputs": [],
   "source": [
    "# https://vk.com/dev/manuals\n",
    "# https://vk.com/dev/newsfeed.search\n",
    "NEWSFEED_REQUEST = 'https://api.vk.com/method/newsfeed.search'\n",
    "VERSION = '5.58'\n",
    "SLEEP = 0.33"
   ]
  },
  {
   "cell_type": "code",
   "execution_count": null,
   "metadata": {},
   "outputs": [],
   "source": [
    "# обращаем внимание, что максимальное количество постов, \n",
    "# которые можно вытащить за раз, ограничено\n",
    "params = {\n",
    "    'access_token': TOKEN,\n",
    "    'v': VERSION,\n",
    "    'q': 'коронавирус',\n",
    "    'count': 200\n",
    "}"
   ]
  },
  {
   "cell_type": "code",
   "execution_count": null,
   "metadata": {},
   "outputs": [],
   "source": [
    "res = requests.get(NEWSFEED_REQUEST, params)\n",
    "res"
   ]
  },
  {
   "cell_type": "code",
   "execution_count": null,
   "metadata": {},
   "outputs": [],
   "source": [
    "res.text"
   ]
  },
  {
   "cell_type": "code",
   "execution_count": null,
   "metadata": {},
   "outputs": [],
   "source": [
    "res.json()"
   ]
  },
  {
   "cell_type": "code",
   "execution_count": null,
   "metadata": {},
   "outputs": [],
   "source": [
    "res.json()['response']['items']"
   ]
  },
  {
   "cell_type": "code",
   "execution_count": null,
   "metadata": {},
   "outputs": [],
   "source": [
    "pd.DataFrame(res.json()['response']['items'])"
   ]
  },
  {
   "cell_type": "code",
   "execution_count": null,
   "metadata": {},
   "outputs": [],
   "source": [
    "# соберем все доступные сообщения по запросу\n",
    "newsfeed_df = pd.DataFrame()\n",
    "while True:\n",
    "    result = requests.get(NEWSFEED_REQUEST, params)\n",
    "    time.sleep(0.33)\n",
    "    newsfeed_df = pd.concat([newsfeed_df, pd.DataFrame(result.json()['response']['items'])])\n",
    "    if 'next_from' in result.json()['response'].keys():\n",
    "        params['start_from'] = result.json()['response']['next_from']\n",
    "    else:\n",
    "        break\n",
    "newsfeed_df"
   ]
  },
  {
   "cell_type": "code",
   "execution_count": null,
   "metadata": {},
   "outputs": [],
   "source": []
  }
 ],
 "metadata": {
  "kernelspec": {
   "display_name": "Python 3",
   "language": "python",
   "name": "python3"
  },
  "language_info": {
   "codemirror_mode": {
    "name": "ipython",
    "version": 3
   },
   "file_extension": ".py",
   "mimetype": "text/x-python",
   "name": "python",
   "nbconvert_exporter": "python",
   "pygments_lexer": "ipython3",
   "version": "3.9.2-final"
  }
 },
 "nbformat": 4,
 "nbformat_minor": 4
}